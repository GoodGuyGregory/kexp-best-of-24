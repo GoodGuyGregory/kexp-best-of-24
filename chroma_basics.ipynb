{
 "cells": [
  {
   "cell_type": "markdown",
   "id": "2e197540-a6d8-48b4-8d5c-0ace3d17657c",
   "metadata": {},
   "source": [
    "## Chroma Vector Database Basics"
   ]
  },
  {
   "cell_type": "markdown",
   "id": "03cd3f77",
   "metadata": {},
   "source": [
    "[LangChain Chroma Db](https://python.langchain.com/docs/integrations/vectorstores/chroma/#query-directly)"
   ]
  },
  {
   "cell_type": "markdown",
   "id": "3924587d-f0da-4096-91ad-f7f04b403d65",
   "metadata": {},
   "source": [
    "**Install Required Libraries**\n"
   ]
  },
  {
   "cell_type": "code",
   "execution_count": 1,
   "id": "924e73ab",
   "metadata": {},
   "outputs": [
    {
     "name": "stdout",
     "output_type": "stream",
     "text": [
      "\n",
      "\u001b[1m[\u001b[0m\u001b[34;49mnotice\u001b[0m\u001b[1;39;49m]\u001b[0m\u001b[39;49m A new release of pip is available: \u001b[0m\u001b[31;49m24.0\u001b[0m\u001b[39;49m -> \u001b[0m\u001b[32;49m24.3.1\u001b[0m\n",
      "\u001b[1m[\u001b[0m\u001b[34;49mnotice\u001b[0m\u001b[1;39;49m]\u001b[0m\u001b[39;49m To update, run: \u001b[0m\u001b[32;49mpip install --upgrade pip\u001b[0m\n",
      "Note: you may need to restart the kernel to use updated packages.\n"
     ]
    }
   ],
   "source": [
    "pip install -qU langchain-openai python-dotenv langchain-chroma"
   ]
  },
  {
   "cell_type": "markdown",
   "id": "ac5f67db",
   "metadata": {},
   "source": [
    "**Load OpenAI Credenitals**"
   ]
  },
  {
   "cell_type": "code",
   "execution_count": 2,
   "id": "d97de282",
   "metadata": {},
   "outputs": [],
   "source": [
    "from langchain_openai import OpenAIEmbeddings\n",
    "from dotenv import load_dotenv\n",
    "import os\n",
    "\n",
    "# Load the .environment variables\n",
    "load_dotenv()\n",
    "\n",
    "# sets API access keys\n",
    "OPEN_AI_API_KEY = os.getenv(\"OPEN_AI_API_KEY\")\n",
    "\n",
    "if not OPEN_AI_API_KEY:\n",
    "        raise ValueError(\"OPEN_AI_API_KEY not found, please add your API key in a .env\")\n",
    "    \n",
    "\n"
   ]
  },
  {
   "cell_type": "markdown",
   "id": "74143bea",
   "metadata": {},
   "source": [
    "**Create OpenAIEmbeddings Model for Chroma**"
   ]
  },
  {
   "cell_type": "code",
   "execution_count": 5,
   "id": "c7bbce77",
   "metadata": {},
   "outputs": [],
   "source": [
    "from langchain_openai import OpenAIEmbeddings\n",
    "\n",
    "# openai embedding model\n",
    "embedding_model = OpenAIEmbeddings(\n",
    "                        api_key=OPEN_AI_API_KEY,\n",
    "                        model=\"text-embedding-3-small\" \n",
    "                    )"
   ]
  },
  {
   "cell_type": "markdown",
   "id": "8f8a34e9",
   "metadata": {},
   "source": [
    "**Create Chroma Client**"
   ]
  },
  {
   "cell_type": "code",
   "execution_count": 6,
   "id": "223288a9",
   "metadata": {},
   "outputs": [],
   "source": [
    "\n",
    "from langchain_chroma import Chroma\n",
    "\n",
    "vector_store = Chroma(\n",
    "            embedding_function=embedding_model,\n",
    "            persist_directory='chroma_db',\n",
    "            collection_name=\"KEXP-24-Embeddings\"\n",
    "        )"
   ]
  },
  {
   "cell_type": "markdown",
   "id": "f5316d0e",
   "metadata": {},
   "source": [
    "**Query The Chroma Vector Database**"
   ]
  },
  {
   "cell_type": "code",
   "execution_count": 11,
   "id": "62ac44ba",
   "metadata": {},
   "outputs": [
    {
     "name": "stdout",
     "output_type": "stream",
     "text": [
      "* [SIM=0.497932] === Cloud Nothings (2011) === [{'source': 'https://en.wikipedia.org/wiki/Cloud_Nothings', 'summary': \"Cloud Nothings is an American indie rock band from Cleveland, Ohio, United States, founded by singer-songwriter Dylan Baldi. It currently consists of lead singer and guitarist Dylan Baldi, drummer Jayson Gerycz, and bassist Chris Brown.\\nBeginning in 2009, the band originally started as a solo project, with Baldi recording both vocals and instrumentals in his parents' basement, although he performed live with a full band. The band was signed to Washington, D.C.–based Carpark Records. They are now signed to Pure Noise Records. Their breakthrough album, Attack on Memory, was released on Carpark in 2012. Their next LP, Here and Nowhere Else, was released on April 1, 2014. Cloud Nothings' album Life Without Sound was released on January 27, 2017. This was followed by Last Building Burning, released on October 19, 2018, the Bandcamp exclusive The Black Hole Understands on July 3, 2020, and The Shadow I Remember on February 26, 2021.\\nBaldi has cited numerous bands and artists as influences, including Wipers, the Lemonheads, the Forms, Life Without Buildings, Women, No Age, Deerhunter, Black Sabbath, Nina Hagen, Killdozer, Zounds, Thin Lizzy, Swell Maps.\\n\\n\", 'title': 'Cloud Nothings'}]\n",
      "* [SIM=0.498005] Cloud Nothings - Final Summer [{'source': \"./Vote for KEXP's Best of 2024.html\", 'title': \"\\n        \\n        \\n        Vote for KEXP's Best of 2024\\n        \\n    \"}]\n",
      "* [SIM=0.501475] Cloud Nothings is an American indie rock band from Cleveland, Ohio, United States, founded by [{'source': 'https://en.wikipedia.org/wiki/Cloud_Nothings', 'summary': \"Cloud Nothings is an American indie rock band from Cleveland, Ohio, United States, founded by singer-songwriter Dylan Baldi. It currently consists of lead singer and guitarist Dylan Baldi, drummer Jayson Gerycz, and bassist Chris Brown.\\nBeginning in 2009, the band originally started as a solo project, with Baldi recording both vocals and instrumentals in his parents' basement, although he performed live with a full band. The band was signed to Washington, D.C.–based Carpark Records. They are now signed to Pure Noise Records. Their breakthrough album, Attack on Memory, was released on Carpark in 2012. Their next LP, Here and Nowhere Else, was released on April 1, 2014. Cloud Nothings' album Life Without Sound was released on January 27, 2017. This was followed by Last Building Burning, released on October 19, 2018, the Bandcamp exclusive The Black Hole Understands on July 3, 2020, and The Shadow I Remember on February 26, 2021.\\nBaldi has cited numerous bands and artists as influences, including Wipers, the Lemonheads, the Forms, Life Without Buildings, Women, No Age, Deerhunter, Black Sabbath, Nina Hagen, Killdozer, Zounds, Thin Lizzy, Swell Maps.\\n\\n\", 'title': 'Cloud Nothings'}]\n",
      "* [SIM=0.552858] Cloud Nothings\n",
      "Dylan Baldi – vocals, guitar\n",
      "Chris Brown – bass\n",
      "Jayson Gerycz – drums [{'source': 'https://en.wikipedia.org/wiki/Final_Summer', 'summary': 'Final Summer is the eighth studio album by American rock band Cloud Nothings.', 'title': 'Final Summer'}]\n",
      "* [SIM=0.567920] Cloud Nothings have delivered record after record of catchy, energetic songs without getting stale [{'source': 'https://en.wikipedia.org/wiki/Final_Summer', 'summary': 'Final Summer is the eighth studio album by American rock band Cloud Nothings.', 'title': 'Final Summer'}]\n"
     ]
    }
   ],
   "source": [
    "results = vector_store.similarity_search_with_score(\n",
    "    \"Cloud Nothings \",\n",
    "    k=5\n",
    ")\n",
    "\n",
    "for res, score in results:\n",
    "    print(f\"* [SIM={score:3f}] {res.page_content} [{res.metadata}]\")"
   ]
  },
  {
   "cell_type": "code",
   "execution_count": null,
   "id": "0ee9453b",
   "metadata": {},
   "outputs": [
    {
     "name": "stdout",
     "output_type": "stream",
     "text": [
      "* Cigarettes After Sex - X's [{'source': \"./Vote for KEXP's Best of 2024.html\", 'title': \"\\n        \\n        \\n        Vote for KEXP's Best of 2024\\n        \\n    \"}]\n",
      "* [Cigarettes After Sex's] appeal\" [{'source': 'https://en.wikipedia.org/wiki/X%27s_(album)', 'summary': 'X\\'s is the third studio album by American ambient pop band Cigarettes After Sex, released through Partisan Records on July 12, 2024. It was preceded by the release of three singles, \"Tejano Blue\", \"Dark Vacay\" and \"Baby Blue Movie\". It received generally favorable reviews from critics upon release.\\n\\n', 'title': \"X's (album)\"}]\n",
      "* Cigarettes After Sex is an American dream pop band, formed in El Paso, Texas, in 2008 by Greg [{'source': 'https://en.wikipedia.org/wiki/Cigarettes_After_Sex', 'summary': 'Cigarettes After Sex is an American dream pop band, formed in El Paso, Texas, in 2008 by Greg Gonzalez. The band is known for their ethereal, limerent and often dream-like musical style, lyrics often based on the themes of romance and love, as well as Gonzalez\\'s voice, which has been described as \"androgynous\". While marketed as an ambient pop band, Cigarettes After Sex are also considered to be shoegaze, slowcore and indie rock.\\nThe band\\'s debut extended play (EP), I., was released in 2012, with the song \"Nothing\\'s Gonna Hurt You Baby\" eventually becoming a sleeper hit through commercial licensing. After the release of the standalone single \"Affection\" in 2015, the band released their self-titled debut studio album in 2017 to positive reviews. The second Cigarettes After Sex studio album, Cry, followed in 2019. The band\\'s third album, X\\'s, was released on July 12, 2024.\\n\\n', 'title': 'Cigarettes After Sex'}]\n",
      "* == Track listing ==\n",
      "\n",
      "\n",
      "== Personnel ==\n",
      "Cigarettes After Sex [{'source': 'https://en.wikipedia.org/wiki/X%27s_(album)', 'summary': 'X\\'s is the third studio album by American ambient pop band Cigarettes After Sex, released through Partisan Records on July 12, 2024. It was preceded by the release of three singles, \"Tejano Blue\", \"Dark Vacay\" and \"Baby Blue Movie\". It received generally favorable reviews from critics upon release.\\n\\n', 'title': \"X's (album)\"}]\n",
      "* Cigarettes After Sex was formed in El Paso, Texas, by Greg Gonzalez in 2008 [{'source': 'https://en.wikipedia.org/wiki/Cigarettes_After_Sex', 'summary': 'Cigarettes After Sex is an American dream pop band, formed in El Paso, Texas, in 2008 by Greg Gonzalez. The band is known for their ethereal, limerent and often dream-like musical style, lyrics often based on the themes of romance and love, as well as Gonzalez\\'s voice, which has been described as \"androgynous\". While marketed as an ambient pop band, Cigarettes After Sex are also considered to be shoegaze, slowcore and indie rock.\\nThe band\\'s debut extended play (EP), I., was released in 2012, with the song \"Nothing\\'s Gonna Hurt You Baby\" eventually becoming a sleeper hit through commercial licensing. After the release of the standalone single \"Affection\" in 2015, the band released their self-titled debut studio album in 2017 to positive reviews. The second Cigarettes After Sex studio album, Cry, followed in 2019. The band\\'s third album, X\\'s, was released on July 12, 2024.\\n\\n', 'title': 'Cigarettes After Sex'}]\n"
     ]
    }
   ],
   "source": [
    "results = vector_store.similarity_search_by_vector(\n",
    "    embedding=embedding_model.embed_query(\"Cigarettes After Sex\"), k=5\n",
    ")\n",
    "for doc in results:\n",
    "    print(f\"* {doc.page_content} [{doc.metadata}]\")"
   ]
  }
 ],
 "metadata": {
  "kernelspec": {
   "display_name": ".venv",
   "language": "python",
   "name": "python3"
  },
  "language_info": {
   "codemirror_mode": {
    "name": "ipython",
    "version": 3
   },
   "file_extension": ".py",
   "mimetype": "text/x-python",
   "name": "python",
   "nbconvert_exporter": "python",
   "pygments_lexer": "ipython3",
   "version": "3.12.3"
  }
 },
 "nbformat": 4,
 "nbformat_minor": 5
}

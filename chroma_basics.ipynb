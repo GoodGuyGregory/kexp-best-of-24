{
 "cells": [
  {
   "cell_type": "markdown",
   "id": "2e197540-a6d8-48b4-8d5c-0ace3d17657c",
   "metadata": {},
   "source": [
    "## Chroma Vector Database Basics"
   ]
  },
  {
   "cell_type": "markdown",
   "id": "03cd3f77",
   "metadata": {},
   "source": [
    "[LangChain Chroma Db](https://python.langchain.com/docs/integrations/vectorstores/chroma/#query-directly)"
   ]
  },
  {
   "cell_type": "markdown",
   "id": "3924587d-f0da-4096-91ad-f7f04b403d65",
   "metadata": {},
   "source": [
    "**Install Required Libraries**\n"
   ]
  },
  {
   "cell_type": "code",
   "execution_count": 25,
   "id": "924e73ab",
   "metadata": {},
   "outputs": [
    {
     "name": "stdout",
     "output_type": "stream",
     "text": [
      "\n",
      "\u001b[1m[\u001b[0m\u001b[34;49mnotice\u001b[0m\u001b[1;39;49m]\u001b[0m\u001b[39;49m A new release of pip is available: \u001b[0m\u001b[31;49m24.0\u001b[0m\u001b[39;49m -> \u001b[0m\u001b[32;49m24.3.1\u001b[0m\n",
      "\u001b[1m[\u001b[0m\u001b[34;49mnotice\u001b[0m\u001b[1;39;49m]\u001b[0m\u001b[39;49m To update, run: \u001b[0m\u001b[32;49mpip install --upgrade pip\u001b[0m\n",
      "Note: you may need to restart the kernel to use updated packages.\n"
     ]
    }
   ],
   "source": [
    "pip install -qU langchain-openai python-dotenv langchain-chroma"
   ]
  },
  {
   "cell_type": "markdown",
   "id": "ac5f67db",
   "metadata": {},
   "source": [
    "**Load OpenAI Credenitals**"
   ]
  },
  {
   "cell_type": "code",
   "execution_count": 26,
   "id": "d97de282",
   "metadata": {},
   "outputs": [],
   "source": [
    "from langchain_openai import OpenAIEmbeddings\n",
    "from dotenv import load_dotenv\n",
    "import os\n",
    "\n",
    "# Load the .environment variables\n",
    "load_dotenv()\n",
    "\n",
    "# sets API access keys\n",
    "OPEN_AI_API_KEY = os.getenv(\"OPEN_AI_API_KEY\")\n",
    "\n",
    "if not OPEN_AI_API_KEY:\n",
    "        raise ValueError(\"OPEN_AI_API_KEY not found, please add your API key in a .env\")\n",
    "    \n",
    "\n"
   ]
  },
  {
   "cell_type": "markdown",
   "id": "74143bea",
   "metadata": {},
   "source": [
    "**Create OpenAIEmbeddings Model for Chroma**"
   ]
  },
  {
   "cell_type": "code",
   "execution_count": 27,
   "id": "c7bbce77",
   "metadata": {},
   "outputs": [],
   "source": [
    "from langchain_openai import OpenAIEmbeddings\n",
    "\n",
    "# openai embedding model\n",
    "embedding_model = OpenAIEmbeddings(\n",
    "                        api_key=OPEN_AI_API_KEY,\n",
    "                        model=\"text-embedding-3-small\" \n",
    "                    )"
   ]
  },
  {
   "cell_type": "markdown",
   "id": "8f8a34e9",
   "metadata": {},
   "source": [
    "**Create Chroma Client**"
   ]
  },
  {
   "cell_type": "code",
   "execution_count": 28,
   "id": "223288a9",
   "metadata": {},
   "outputs": [],
   "source": [
    "\n",
    "from langchain_chroma import Chroma\n",
    "\n",
    "vector_store = Chroma(\n",
    "            embedding_function=embedding_model,\n",
    "            persist_directory='chroma_db',\n",
    "            collection_name=\"KEXP-24-Embeddings\"\n",
    "        )"
   ]
  },
  {
   "cell_type": "markdown",
   "id": "f5316d0e",
   "metadata": {},
   "source": [
    "**Query The Chroma Vector Database**"
   ]
  },
  {
   "cell_type": "code",
   "execution_count": 29,
   "id": "62ac44ba",
   "metadata": {},
   "outputs": [
    {
     "name": "stdout",
     "output_type": "stream",
     "text": [
      "* [SIM=0.188725] \n",
      " Liam Gallagher & John Squire - Liam Gallagher & John Squire [{'source': \"./Vote for KEXP's Best of 2024.html\", 'title': \"\\n        \\n        \\n        Vote for KEXP's Best of 2024\\n        \\n    \"}]\n",
      "* [SIM=0.986088] . In the '90s, you'd have the Gallagher brothers hanging out with Goldie and Björk [{'source': 'https://en.wikipedia.org/wiki/Silence_Is_Loud', 'summary': \"Silence Is Loud is the debut studio album by English record producer, DJ and singer-songwriter Nia Archives. Released on 12 April 2024 on Hijinxx and Island Records, the album constituted Archives's attempt at fusing jungle music with Britpop. Upon release, critics rated the album positively, and the album charted at No. 16 on the UK Albums Chart, becoming her first album to make the main listing and the second to make the UK Albums Chart Update. It was nominated for the 2024 Mercury Prize.\\n\\n\", 'title': 'Silence Is Loud'}]\n",
      "* [SIM=1.042647] Carpets (for whom Oasis's Noel Gallagher had worked as a roadie during the Madchester years), was [{'source': 'https://en.wikipedia.org/wiki/Britpop', 'summary': 'Britpop was a mid-1990s British-based music culture movement that emphasised Britishness. Musically, Britpop produced bright, catchy alternative rock, in reaction to the darker lyrical themes and soundscapes of the US-led grunge music and the UK\\'s own shoegaze music scene. The movement brought British alternative rock into the mainstream and formed the larger British popular cultural movement, Cool Britannia, which evoked the Swinging Sixties and the British guitar pop of that decade.\\nBritpop was a phenomenon that highlighted bands emerging from the independent music scene of the early 1990s. Although often seen as a cultural moment rather than a distinct musical genre, its associated bands typically drew inspiration from the British pop music of the 1960s, the glam rock and punk rock of the 1970s, and the indie pop of the 1980s. \\nThe most successful bands linked with Britpop were Oasis, Blur, Suede and Pulp, known as the \"big four\" of the movement. The timespan of Britpop is generally considered to be 1993–1997, and its peak years to be 1995–1996. A chart battle between Blur and Oasis (dubbed \"The Battle of Britpop\") brought the movement to the forefront of the British press in 1995. While music was the main focus, fashion, art and politics also got involved, with Tony Blair and New Labour aligning themselves with the movement.\\nDuring the late 1990s, many Britpop acts began to falter commercially or break up, or otherwise moved towards new genres or styles. Commercially, Britpop lost out to teen pop, while artistically it segued into a post-Britpop indie movement, associated with bands such as Travis and Coldplay.', 'title': 'Britpop'}]\n",
      "* [SIM=1.055436] Liam Bailey video interview in the Virgin Red Room\n",
      "The Line of Best Fit interview, March 2011 [{'source': 'https://en.wikipedia.org/wiki/Liam_Bailey', 'summary': 'Liam Bailey is an English singer-songwriter from Nottingham. He is noted for his soul, reggae, and blues-influenced vocal style.', 'title': 'Liam Bailey'}]\n",
      "* [SIM=1.060454] & Sebastian and was supported by John Peel [{'source': 'https://en.wikipedia.org/wiki/Camera_Obscura_(band)', 'summary': 'Camera Obscura are a Scottish indie pop band from Glasgow. The group formed in 1996, and have released six studio albums to date. Led by primary singer and songwriter Tracyanne Campbell, the band consists of guitarist/vocalist Kenny McKeeve, bassist Gavin Dunbar, and drummer Lee Thomson. Following the death of long-serving keyboardist Carey Lander, the band went on hiatus from 2015 to 2018. After reuniting in 2019 and adding Donna Maciocia as a permanent member, Camera Obscura released their first new album in 11 years, Look to the East, Look to the West, to critical acclaim. \\nThe band\\'s music has been frequently described as \"twee pop\", and garnered comparisons to fellow Scottish band Belle and Sebastian. The band have also been praised for their \"honest, wide, and adult approach to heartbreak, romantic liaisons, and escapism\".', 'title': 'Camera Obscura (band)'}]\n"
     ]
    }
   ],
   "source": [
    "results = vector_store.similarity_search_with_score(\n",
    "    \"Liam Gallagher & John Squire\",\n",
    "    k=5\n",
    ")\n",
    "\n",
    "for res, score in results:\n",
    "    print(f\"* [SIM={score:3f}] {res.page_content} [{res.metadata}]\")"
   ]
  },
  {
   "cell_type": "code",
   "execution_count": null,
   "id": "0ee9453b",
   "metadata": {},
   "outputs": [
    {
     "name": "stdout",
     "output_type": "stream",
     "text": [
      "* Willie Nelson - The Border [{'source': \"./Vote for KEXP's Best of 2024.html\", 'title': \"\\n        \\n        \\n        Vote for KEXP's Best of 2024\\n        \\n    \"}]\n",
      "* Willie Nelson - Last Leaf on the Tree [{'source': \"./Vote for KEXP's Best of 2024.html\", 'title': \"\\n        \\n        \\n        Vote for KEXP's Best of 2024\\n        \\n    \"}]\n",
      "* Gary Lee Clark Jr [{'source': 'https://en.wikipedia.org/wiki/Gary_Clark_Jr.', 'summary': 'Gary Lee Clark Jr. (born February 15, 1984) is an American guitarist and singer who fuses blues, rock and soul music with elements of hip hop. In 2011, Clark signed with Warner Bros Records and released The Bright Lights EP. It was followed by the albums Blak and Blu (2012) and The Story of Sonny Boy Slim (2015). Throughout his career, Clark has been a prolific live performer, documented by Gary Clark Jr. Live (2014) and Gary Clark Jr Live/North America (2017).\\nIn 2014, Clark was awarded a Grammy for Best Traditional R&B performance for the song \"Please Come Home\". In 2020, he won the Grammy Award for \"Best Rock Song\" and \"Best Rock Performance\" for the song \"This Land\" from that album. His most recent album, JPEG Raw, was released in 2024.', 'title': 'Gary Clark Jr.'}]\n",
      "* A Country Western - Life On the Lawn [{'source': \"./Vote for KEXP's Best of 2024.html\", 'title': \"\\n        \\n        \\n        Vote for KEXP's Best of 2024\\n        \\n    \"}]\n",
      "* Orville Peck - Stampede [{'source': \"./Vote for KEXP's Best of 2024.html\", 'title': \"\\n        \\n        \\n        Vote for KEXP's Best of 2024\\n        \\n    \"}]\n"
     ]
    }
   ],
   "source": [
    "results = vector_store.similarity_search_by_vector(\n",
    "    embedding=embedding_model.embed_query(\"Willie\"), k=5\n",
    ")\n",
    "for doc in results:\n",
    "    print(f\"* {doc.page_content} [{doc.metadata}]\")"
   ]
  }
 ],
 "metadata": {
  "kernelspec": {
   "display_name": ".venv",
   "language": "python",
   "name": "python3"
  },
  "language_info": {
   "codemirror_mode": {
    "name": "ipython",
    "version": 3
   },
   "file_extension": ".py",
   "mimetype": "text/x-python",
   "name": "python",
   "nbconvert_exporter": "python",
   "pygments_lexer": "ipython3",
   "version": "3.12.3"
  }
 },
 "nbformat": 4,
 "nbformat_minor": 5
}

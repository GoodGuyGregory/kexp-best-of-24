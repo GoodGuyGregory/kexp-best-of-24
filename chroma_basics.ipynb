{
 "cells": [
  {
   "cell_type": "markdown",
   "id": "2e197540-a6d8-48b4-8d5c-0ace3d17657c",
   "metadata": {},
   "source": [
    "## Chroma Vector Database Basics"
   ]
  },
  {
   "cell_type": "markdown",
   "id": "03cd3f77",
   "metadata": {},
   "source": [
    "[LangChain Chroma Db](https://python.langchain.com/docs/integrations/vectorstores/chroma/#query-directly)"
   ]
  },
  {
   "cell_type": "markdown",
   "id": "3924587d-f0da-4096-91ad-f7f04b403d65",
   "metadata": {},
   "source": [
    "**Install Required Libraries**\n"
   ]
  },
  {
   "cell_type": "code",
   "execution_count": 42,
   "id": "924e73ab",
   "metadata": {},
   "outputs": [
    {
     "name": "stdout",
     "output_type": "stream",
     "text": [
      "\n",
      "\u001b[1m[\u001b[0m\u001b[34;49mnotice\u001b[0m\u001b[1;39;49m]\u001b[0m\u001b[39;49m A new release of pip is available: \u001b[0m\u001b[31;49m24.0\u001b[0m\u001b[39;49m -> \u001b[0m\u001b[32;49m24.3.1\u001b[0m\n",
      "\u001b[1m[\u001b[0m\u001b[34;49mnotice\u001b[0m\u001b[1;39;49m]\u001b[0m\u001b[39;49m To update, run: \u001b[0m\u001b[32;49mpip install --upgrade pip\u001b[0m\n",
      "Note: you may need to restart the kernel to use updated packages.\n"
     ]
    }
   ],
   "source": [
    "pip install -qU langchain-openai python-dotenv langchain-chroma"
   ]
  },
  {
   "cell_type": "markdown",
   "id": "ac5f67db",
   "metadata": {},
   "source": [
    "**Load OpenAI Credenitals**"
   ]
  },
  {
   "cell_type": "code",
   "execution_count": 43,
   "id": "d97de282",
   "metadata": {},
   "outputs": [],
   "source": [
    "from langchain_openai import OpenAIEmbeddings\n",
    "from dotenv import load_dotenv\n",
    "import os\n",
    "\n",
    "# Load the .environment variables\n",
    "load_dotenv()\n",
    "\n",
    "# sets API access keys\n",
    "OPEN_AI_API_KEY = os.getenv(\"OPEN_AI_API_KEY\")\n",
    "\n",
    "if not OPEN_AI_API_KEY:\n",
    "        raise ValueError(\"OPEN_AI_API_KEY not found, please add your API key in a .env\")\n",
    "    \n",
    "\n"
   ]
  },
  {
   "cell_type": "markdown",
   "id": "74143bea",
   "metadata": {},
   "source": [
    "**Create OpenAIEmbeddings Model for Chroma**"
   ]
  },
  {
   "cell_type": "code",
   "execution_count": 44,
   "id": "c7bbce77",
   "metadata": {},
   "outputs": [],
   "source": [
    "from langchain_openai import OpenAIEmbeddings\n",
    "\n",
    "# openai embedding model\n",
    "embedding_model = OpenAIEmbeddings(\n",
    "                        api_key=OPEN_AI_API_KEY,\n",
    "                        model=\"text-embedding-3-small\" \n",
    "                    )"
   ]
  },
  {
   "cell_type": "markdown",
   "id": "8f8a34e9",
   "metadata": {},
   "source": [
    "**Create Chroma Client**"
   ]
  },
  {
   "cell_type": "code",
   "execution_count": 45,
   "id": "223288a9",
   "metadata": {},
   "outputs": [],
   "source": [
    "\n",
    "from langchain_chroma import Chroma\n",
    "\n",
    "vector_store = Chroma(\n",
    "            embedding_function=embedding_model,\n",
    "            persist_directory='chroma_db',\n",
    "            collection_name=\"KEXP-24-Embeddings\"\n",
    "        )"
   ]
  },
  {
   "cell_type": "markdown",
   "id": "f5316d0e",
   "metadata": {},
   "source": [
    "**Query The Chroma Vector Database**"
   ]
  },
  {
   "cell_type": "code",
   "execution_count": 48,
   "id": "62ac44ba",
   "metadata": {},
   "outputs": [
    {
     "name": "stdout",
     "output_type": "stream",
     "text": [
      "* [SIM=0.557158] Willie Nelson - The Border [{'source': \"./Vote for KEXP's Best of 2024.html\", 'title': \"\\n        \\n        \\n        Vote for KEXP's Best of 2024\\n        \\n    \"}]\n",
      "* [SIM=0.598908] Willie Nelson - Last Leaf on the Tree [{'source': \"./Vote for KEXP's Best of 2024.html\", 'title': \"\\n        \\n        \\n        Vote for KEXP's Best of 2024\\n        \\n    \"}]\n",
      "* [SIM=1.176673] Gary Lee Clark Jr [{'source': 'https://en.wikipedia.org/wiki/Gary_Clark_Jr.', 'summary': 'Gary Lee Clark Jr. (born February 15, 1984) is an American guitarist and singer who fuses blues, rock and soul music with elements of hip hop. In 2011, Clark signed with Warner Bros Records and released The Bright Lights EP. It was followed by the albums Blak and Blu (2012) and The Story of Sonny Boy Slim (2015). Throughout his career, Clark has been a prolific live performer, documented by Gary Clark Jr. Live (2014) and Gary Clark Jr Live/North America (2017).\\nIn 2014, Clark was awarded a Grammy for Best Traditional R&B performance for the song \"Please Come Home\". In 2020, he won the Grammy Award for \"Best Rock Song\" and \"Best Rock Performance\" for the song \"This Land\" from that album. His most recent album, JPEG Raw, was released in 2024.', 'title': 'Gary Clark Jr.'}]\n",
      "* [SIM=1.215776] A Country Western - Life On the Lawn [{'source': \"./Vote for KEXP's Best of 2024.html\", 'title': \"\\n        \\n        \\n        Vote for KEXP's Best of 2024\\n        \\n    \"}]\n",
      "* [SIM=1.239990] Orville Peck - Stampede [{'source': \"./Vote for KEXP's Best of 2024.html\", 'title': \"\\n        \\n        \\n        Vote for KEXP's Best of 2024\\n        \\n    \"}]\n"
     ]
    }
   ],
   "source": [
    "results = vector_store.similarity_search_with_score(\n",
    "    \"Willie Nelson\",\n",
    "    k=5\n",
    ")\n",
    "\n",
    "for res, score in results:\n",
    "    print(f\"* [SIM={score:3f}] {res.page_content} [{res.metadata}]\")"
   ]
  },
  {
   "cell_type": "code",
   "execution_count": 47,
   "id": "0ee9453b",
   "metadata": {},
   "outputs": [
    {
     "name": "stdout",
     "output_type": "stream",
     "text": [
      "* Willie Nelson - Last Leaf on the Tree [{'source': \"./Vote for KEXP's Best of 2024.html\", 'title': \"\\n        \\n        \\n        Vote for KEXP's Best of 2024\\n        \\n    \"}]\n",
      "* Leaf directed music video for the song [{'source': 'https://en.wikipedia.org/wiki/Gary_Clark_Jr.', 'summary': 'Gary Lee Clark Jr. (born February 15, 1984) is an American guitarist and singer who fuses blues, rock and soul music with elements of hip hop. In 2011, Clark signed with Warner Bros Records and released The Bright Lights EP. It was followed by the albums Blak and Blu (2012) and The Story of Sonny Boy Slim (2015). Throughout his career, Clark has been a prolific live performer, documented by Gary Clark Jr. Live (2014) and Gary Clark Jr Live/North America (2017).\\nIn 2014, Clark was awarded a Grammy for Best Traditional R&B performance for the song \"Please Come Home\". In 2020, he won the Grammy Award for \"Best Rock Song\" and \"Best Rock Performance\" for the song \"This Land\" from that album. His most recent album, JPEG Raw, was released in 2024.', 'title': 'Gary Clark Jr.'}]\n",
      "* Cloud Nothings - Final Summer [{'source': \"./Vote for KEXP's Best of 2024.html\", 'title': \"\\n        \\n        \\n        Vote for KEXP's Best of 2024\\n        \\n    \"}]\n",
      "* leaves 50–83 cm (19+1⁄2–32+1⁄2 in) long [{'source': 'https://en.wikipedia.org/wiki/Artichoke', 'summary': 'The artichoke (Cynara cardunculus var. scolymus), also known by the names French artichoke, globe artichoke, and green artichoke in the United States, is a variety of a species of thistle cultivated as food.\\nThe edible portion of the plant consists of the flower buds before the flowers come into bloom. The budding artichoke flower-head is a cluster of many budding small flowers (an inflorescence), together with many bracts, on an edible base. Once the buds bloom, the structure changes to a coarse, barely edible form. Another variety of the same species is the cardoon, a perennial plant native to the Mediterranean region. Both wild forms and cultivated varieties (cultivars) exist.', 'title': 'Artichoke'}]\n",
      "* We Are the Willows - IV [{'source': \"./Vote for KEXP's Best of 2024.html\", 'title': \"\\n        \\n        \\n        Vote for KEXP's Best of 2024\\n        \\n    \"}]\n"
     ]
    }
   ],
   "source": [
    "results = vector_store.similarity_search_by_vector(\n",
    "    embedding=embedding_model.embed_query(\"Last Leaf\"), k=5\n",
    ")\n",
    "for doc in results:\n",
    "    print(f\"* {doc.page_content} [{doc.metadata}]\")"
   ]
  }
 ],
 "metadata": {
  "kernelspec": {
   "display_name": ".venv",
   "language": "python",
   "name": "python3"
  },
  "language_info": {
   "codemirror_mode": {
    "name": "ipython",
    "version": 3
   },
   "file_extension": ".py",
   "mimetype": "text/x-python",
   "name": "python",
   "nbconvert_exporter": "python",
   "pygments_lexer": "ipython3",
   "version": "3.12.3"
  }
 },
 "nbformat": 4,
 "nbformat_minor": 5
}

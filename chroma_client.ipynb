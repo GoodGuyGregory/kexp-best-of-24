{
 "cells": [
  {
   "cell_type": "markdown",
   "metadata": {},
   "source": [
    "## Chroma Client \n",
    "\n",
    "[Create-Get-Delete](https://docs.trychroma.com/docs/collections/create-get-delete)"
   ]
  },
  {
   "cell_type": "code",
   "execution_count": null,
   "metadata": {},
   "outputs": [],
   "source": [
    "pip install chromadb python-dotenv"
   ]
  },
  {
   "cell_type": "markdown",
   "metadata": {},
   "source": [
    "**Create a PersistentClient**"
   ]
  },
  {
   "cell_type": "code",
   "execution_count": 3,
   "metadata": {},
   "outputs": [],
   "source": [
    "import chromadb\n",
    "\n",
    "# create a client that will load our existing chromadb\n",
    "client = chromadb.PersistentClient(path=\"chroma_db/\")\n"
   ]
  },
  {
   "cell_type": "markdown",
   "metadata": {},
   "source": [
    "**Check Our Connection**"
   ]
  },
  {
   "cell_type": "code",
   "execution_count": 4,
   "metadata": {},
   "outputs": [
    {
     "data": {
      "text/plain": [
       "1735245459547403000"
      ]
     },
     "execution_count": 4,
     "metadata": {},
     "output_type": "execute_result"
    }
   ],
   "source": [
    "client.heartbeat()"
   ]
  },
  {
   "cell_type": "markdown",
   "metadata": {},
   "source": [
    "**Getting Our Data Metrics**"
   ]
  },
  {
   "cell_type": "code",
   "execution_count": 7,
   "metadata": {},
   "outputs": [],
   "source": [
    "from dotenv import load_dotenv\n",
    "import os\n",
    "\n",
    "load_dotenv()\n",
    "\n",
    "# loads the .env file with LLM API Keys\n",
    "load_dotenv()\n",
    "\n",
    "# sets API access keys\n",
    "OPEN_AI_API_KEY = os.getenv(\"OPEN_AI_API_KEY\")\n",
    "\n",
    "if not OPEN_AI_API_KEY:\n",
    "    raise ValueError(\"OPEN_AI_API_KEY not found, please add your API key in a .env\")\n",
    "    "
   ]
  },
  {
   "cell_type": "markdown",
   "metadata": {},
   "source": [
    "**Create Embedding Function**\n",
    "\n",
    "[Emedding Functions](https://docs.trychroma.com/integrations/embedding-models/openai) tell Chroma what type of embedding to look for when making queries to the Chroma client"
   ]
  },
  {
   "cell_type": "code",
   "execution_count": 9,
   "metadata": {},
   "outputs": [],
   "source": [
    "# get openai embedding function\n",
    "import chromadb.utils.embedding_functions as embedding_functions\n",
    "\n",
    "# create embedding_function object\n",
    "openai_ef = embedding_functions.OpenAIEmbeddingFunction(\n",
    "                api_key=OPEN_AI_API_KEY,\n",
    "                model_name=\"text-embedding-3-small\"\n",
    "            )\n"
   ]
  },
  {
   "cell_type": "markdown",
   "metadata": {},
   "source": [
    "**Get Collection Details**\n",
    "\n",
    "[Create and Get and Delete](https://docs.trychroma.com/docs/collections/create-get-delete) processing the collection for the standard `CRUD` operations requires a `collection` primitive.\n",
    "\n",
    "\n",
    "```python\n",
    "# create the collection if it doesn't exist\n",
    "collection = client.create_collection(name=\"my_collection\", embedding_function=emb_fn)\n",
    "\n",
    "# get's a collection if it exists\n",
    "collection = client.get_collection(name=\"my_collection\", embedding_function=emb_fn)\n",
    "```\n",
    "\n"
   ]
  },
  {
   "cell_type": "code",
   "execution_count": null,
   "metadata": {},
   "outputs": [],
   "source": [
    "# search for the KEXP collection\n",
    "collection = client.get_collection(name=\"KEXP-24-Embeddings\", embedding_function=openai_ef)\n",
    "\n",
    "\n",
    "# look at the last item of the data base \n",
    "collection.peek() \n",
    "\n"
   ]
  },
  {
   "cell_type": "code",
   "execution_count": 15,
   "metadata": {},
   "outputs": [
    {
     "name": "stdout",
     "output_type": "stream",
     "text": [
      "objects within the collection: 12469\n"
     ]
    }
   ],
   "source": [
    "# looks at a count\n",
    "print(\"objects within the collection: \" + str(collection.count() ))"
   ]
  },
  {
   "cell_type": "markdown",
   "metadata": {},
   "source": [
    "**Querying the Database**\n",
    "\n",
    "[Query and Get](https://docs.trychroma.com/docs/querying-collections/query-and-get) the objects can be queried. You can also query by a set of `query texts`. Chroma will first embed each query text with the collection's embedding function, and then perform the query with the generated embedding.\n",
    "\n",
    "\n",
    "\n",
    "```python\n",
    "collection.query(\n",
    "    query_texts=[\"Khurangbin\"],\n",
    "    n_results=5,\n",
    "    include=['documents', 'distances', 'metadatas']\n",
    ")\n",
    "```"
   ]
  },
  {
   "cell_type": "code",
   "execution_count": 27,
   "metadata": {},
   "outputs": [
    {
     "data": {
      "text/plain": [
       "{'ids': [['f835ff0b-f8ba-4a26-97f8-fce031b58c5b',\n",
       "   '99f531cb-3731-451c-8a8d-7e9eeb2e7ece',\n",
       "   'd691b19f-8545-4a82-bb47-8fe1cad0b17d',\n",
       "   '05e06d61-d2b6-4520-9598-952b806dfcc0',\n",
       "   '19668f98-b568-49fa-8739-015c2f9259f7']],\n",
       " 'embeddings': None,\n",
       " 'documents': [['Bombay Bicycle Club is an English indie rock band from Crouch End, London, consisting of Jack',\n",
       "   'Bombay Bicycle Club - Fantasies EP',\n",
       "   'In January 2019, Bombay Bicycle Club announced their return to making new music and performing live',\n",
       "   '. They switched between various aliases until they picked Bombay Bicycle Club, named after a (now',\n",
       "   'On 16 May 2007, NME published an article naming Bombay Bicycle Club \"..']],\n",
       " 'uris': None,\n",
       " 'data': None,\n",
       " 'metadatas': [[{'source': 'https://en.wikipedia.org/wiki/Bombay_Bicycle_Club',\n",
       "    'summary': 'Bombay Bicycle Club is an English indie rock band from Crouch End, London, consisting of Jack Steadman, Jamie MacColl, Suren de Saram, and Ed Nash. They are guitar-fronted and have experimented with different genres, including folk, electronica, world music and indie rock.\\nThe band was given the opening slot on 2006\\'s V Festival after winning a competition. They subsequently released two EPs and their debut single \"Evening/Morning\". Since then, the band has released five albums including So Long, See You Tomorrow which topped the album charts in February 2014. The band has toured worldwide as a headlining act, playing North America, Australia, Europe and Asia.\\nIn January 2016, the four members announced that they would pursue solo projects. Nash recorded music under the name Toothless, and released his debut album in early 2017. Frontman Steadman, under the name Mr Jukes, released his debut album in 2017.\\nIn January 2019, Bombay Bicycle Club announced their return to making new music and performing live after a three-year hiatus: \"Since late last year we\\'ve been getting back into the swing of playing music together. More than anything it just felt great to be in the same room playing again. It made us realise what a good thing we have and has given us renewed energy and enthusiasm for the future\".\\n\\n',\n",
       "    'title': 'Bombay Bicycle Club'},\n",
       "   {'source': \"./Vote for KEXP's Best of 2024.html\",\n",
       "    'title': \"\\n        \\n        \\n        Vote for KEXP's Best of 2024\\n        \\n    \"},\n",
       "   {'source': 'https://en.wikipedia.org/wiki/Bombay_Bicycle_Club',\n",
       "    'summary': 'Bombay Bicycle Club is an English indie rock band from Crouch End, London, consisting of Jack Steadman, Jamie MacColl, Suren de Saram, and Ed Nash. They are guitar-fronted and have experimented with different genres, including folk, electronica, world music and indie rock.\\nThe band was given the opening slot on 2006\\'s V Festival after winning a competition. They subsequently released two EPs and their debut single \"Evening/Morning\". Since then, the band has released five albums including So Long, See You Tomorrow which topped the album charts in February 2014. The band has toured worldwide as a headlining act, playing North America, Australia, Europe and Asia.\\nIn January 2016, the four members announced that they would pursue solo projects. Nash recorded music under the name Toothless, and released his debut album in early 2017. Frontman Steadman, under the name Mr Jukes, released his debut album in 2017.\\nIn January 2019, Bombay Bicycle Club announced their return to making new music and performing live after a three-year hiatus: \"Since late last year we\\'ve been getting back into the swing of playing music together. More than anything it just felt great to be in the same room playing again. It made us realise what a good thing we have and has given us renewed energy and enthusiasm for the future\".\\n\\n',\n",
       "    'title': 'Bombay Bicycle Club'},\n",
       "   {'source': 'https://en.wikipedia.org/wiki/Bombay_Bicycle_Club',\n",
       "    'summary': 'Bombay Bicycle Club is an English indie rock band from Crouch End, London, consisting of Jack Steadman, Jamie MacColl, Suren de Saram, and Ed Nash. They are guitar-fronted and have experimented with different genres, including folk, electronica, world music and indie rock.\\nThe band was given the opening slot on 2006\\'s V Festival after winning a competition. They subsequently released two EPs and their debut single \"Evening/Morning\". Since then, the band has released five albums including So Long, See You Tomorrow which topped the album charts in February 2014. The band has toured worldwide as a headlining act, playing North America, Australia, Europe and Asia.\\nIn January 2016, the four members announced that they would pursue solo projects. Nash recorded music under the name Toothless, and released his debut album in early 2017. Frontman Steadman, under the name Mr Jukes, released his debut album in 2017.\\nIn January 2019, Bombay Bicycle Club announced their return to making new music and performing live after a three-year hiatus: \"Since late last year we\\'ve been getting back into the swing of playing music together. More than anything it just felt great to be in the same room playing again. It made us realise what a good thing we have and has given us renewed energy and enthusiasm for the future\".\\n\\n',\n",
       "    'title': 'Bombay Bicycle Club'},\n",
       "   {'source': 'https://en.wikipedia.org/wiki/Bombay_Bicycle_Club',\n",
       "    'summary': 'Bombay Bicycle Club is an English indie rock band from Crouch End, London, consisting of Jack Steadman, Jamie MacColl, Suren de Saram, and Ed Nash. They are guitar-fronted and have experimented with different genres, including folk, electronica, world music and indie rock.\\nThe band was given the opening slot on 2006\\'s V Festival after winning a competition. They subsequently released two EPs and their debut single \"Evening/Morning\". Since then, the band has released five albums including So Long, See You Tomorrow which topped the album charts in February 2014. The band has toured worldwide as a headlining act, playing North America, Australia, Europe and Asia.\\nIn January 2016, the four members announced that they would pursue solo projects. Nash recorded music under the name Toothless, and released his debut album in early 2017. Frontman Steadman, under the name Mr Jukes, released his debut album in 2017.\\nIn January 2019, Bombay Bicycle Club announced their return to making new music and performing live after a three-year hiatus: \"Since late last year we\\'ve been getting back into the swing of playing music together. More than anything it just felt great to be in the same room playing again. It made us realise what a good thing we have and has given us renewed energy and enthusiasm for the future\".\\n\\n',\n",
       "    'title': 'Bombay Bicycle Club'}]],\n",
       " 'distances': [[0.4093962013721466,\n",
       "   0.5021058917045593,\n",
       "   0.5631582736968994,\n",
       "   0.5792350769042969,\n",
       "   0.6178344488143921]],\n",
       " 'included': [<IncludeEnum.distances: 'distances'>,\n",
       "  <IncludeEnum.documents: 'documents'>,\n",
       "  <IncludeEnum.metadatas: 'metadatas'>]}"
      ]
     },
     "execution_count": 27,
     "metadata": {},
     "output_type": "execute_result"
    }
   ],
   "source": [
    "collection.query(\n",
    "    query_texts=[\"Bombay Bicycle Club\"],\n",
    "    n_results=5,\n",
    "    include=['documents', 'distances', 'metadatas']\n",
    ")"
   ]
  }
 ],
 "metadata": {
  "kernelspec": {
   "display_name": ".venv",
   "language": "python",
   "name": "python3"
  },
  "language_info": {
   "codemirror_mode": {
    "name": "ipython",
    "version": 3
   },
   "file_extension": ".py",
   "mimetype": "text/x-python",
   "name": "python",
   "nbconvert_exporter": "python",
   "pygments_lexer": "ipython3",
   "version": "3.12.3"
  }
 },
 "nbformat": 4,
 "nbformat_minor": 2
}

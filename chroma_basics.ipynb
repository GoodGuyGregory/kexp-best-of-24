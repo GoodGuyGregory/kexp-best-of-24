{
 "cells": [
  {
   "cell_type": "markdown",
   "id": "2e197540-a6d8-48b4-8d5c-0ace3d17657c",
   "metadata": {},
   "source": [
    "## Chroma Vector Database Basics"
   ]
  },
  {
   "cell_type": "markdown",
   "id": "03cd3f77",
   "metadata": {},
   "source": [
    "[LangChain Chroma Db](https://python.langchain.com/docs/integrations/vectorstores/chroma/#query-directly)"
   ]
  },
  {
   "cell_type": "markdown",
   "id": "3924587d-f0da-4096-91ad-f7f04b403d65",
   "metadata": {},
   "source": [
    "**Install Required Libraries**\n"
   ]
  },
  {
   "cell_type": "code",
   "execution_count": 4,
   "id": "924e73ab",
   "metadata": {},
   "outputs": [
    {
     "name": "stdout",
     "output_type": "stream",
     "text": [
      "\n",
      "\u001b[1m[\u001b[0m\u001b[34;49mnotice\u001b[0m\u001b[1;39;49m]\u001b[0m\u001b[39;49m A new release of pip is available: \u001b[0m\u001b[31;49m24.0\u001b[0m\u001b[39;49m -> \u001b[0m\u001b[32;49m24.3.1\u001b[0m\n",
      "\u001b[1m[\u001b[0m\u001b[34;49mnotice\u001b[0m\u001b[1;39;49m]\u001b[0m\u001b[39;49m To update, run: \u001b[0m\u001b[32;49mpip install --upgrade pip\u001b[0m\n",
      "Note: you may need to restart the kernel to use updated packages.\n"
     ]
    }
   ],
   "source": [
    "pip install -qU langchain-openai python-dotenv langchain-chroma"
   ]
  },
  {
   "cell_type": "markdown",
   "id": "ac5f67db",
   "metadata": {},
   "source": [
    "**Load OpenAI Credenitals**"
   ]
  },
  {
   "cell_type": "code",
   "execution_count": 2,
   "id": "d97de282",
   "metadata": {},
   "outputs": [],
   "source": [
    "from langchain_openai import OpenAIEmbeddings\n",
    "from dotenv import load_dotenv\n",
    "import os\n",
    "\n",
    "# Load the .environment variables\n",
    "load_dotenv()\n",
    "\n",
    "# sets API access keys\n",
    "OPEN_AI_API_KEY = os.getenv(\"OPEN_AI_API_KEY\")\n",
    "\n",
    "if not OPEN_AI_API_KEY:\n",
    "        raise ValueError(\"OPEN_AI_API_KEY not found, please add your API key in a .env\")\n",
    "    \n",
    "\n"
   ]
  },
  {
   "cell_type": "markdown",
   "id": "74143bea",
   "metadata": {},
   "source": [
    "**Create OpenAIEmbeddings Model for Chroma**"
   ]
  },
  {
   "cell_type": "code",
   "execution_count": 3,
   "id": "c7bbce77",
   "metadata": {},
   "outputs": [],
   "source": [
    "from langchain_openai import OpenAIEmbeddings\n",
    "\n",
    "# openai embedding model\n",
    "embedding_model = OpenAIEmbeddings(\n",
    "                        api_key=OPEN_AI_API_KEY,\n",
    "                        model=\"text-embedding-3-small\" \n",
    "                    )"
   ]
  },
  {
   "cell_type": "markdown",
   "id": "8f8a34e9",
   "metadata": {},
   "source": [
    "**Create Chroma Client**"
   ]
  },
  {
   "cell_type": "code",
   "execution_count": 65,
   "id": "223288a9",
   "metadata": {},
   "outputs": [],
   "source": [
    "\n",
    "from langchain_chroma import Chroma\n",
    "\n",
    "vector_store = Chroma(\n",
    "            embedding_function=embedding_model,\n",
    "            persist_directory='chroma_db',\n",
    "            collection_name=\"KEXP-24-Embeddings\"\n",
    "        )"
   ]
  },
  {
   "cell_type": "markdown",
   "id": "f5316d0e",
   "metadata": {},
   "source": [
    "**Query The Chroma Vector Database**"
   ]
  },
  {
   "cell_type": "code",
   "execution_count": null,
   "id": "62ac44ba",
   "metadata": {},
   "outputs": [
    {
     "name": "stdout",
     "output_type": "stream",
     "text": [
      "* [SIM=0.505437] MGMT - Loss of Life [{'source': \"./Vote for KEXP's Best of 2024.html\", 'title': \"\\n        \\n        \\n        Vote for KEXP's Best of 2024\\n        \\n    \"}]\n",
      "* [SIM=0.505437] MGMT - Loss of Life [{'source': \"./Vote for KEXP's Best of 2024.html\", 'title': \"\\n        \\n        \\n        Vote for KEXP's Best of 2024\\n        \\n    \"}]\n",
      "* [SIM=1.070718] Loma - How Will I Live Without A Body [{'source': \"./Vote for KEXP's Best of 2024.html\", 'title': \"\\n        \\n        \\n        Vote for KEXP's Best of 2024\\n        \\n    \"}]\n",
      "* [SIM=1.070718] Loma - How Will I Live Without A Body [{'source': \"./Vote for KEXP's Best of 2024.html\", 'title': \"\\n        \\n        \\n        Vote for KEXP's Best of 2024\\n        \\n    \"}]\n",
      "* [SIM=1.107242] Losey’s 1967 film Accident [{'source': 'https://en.wikipedia.org/wiki/Broadcast_(band)', 'summary': \"Broadcast were an English band formed in Birmingham in 1995 by Trish Keenan (vocals, keyboards, guitar) and James Cargill (bass). Their musical style blended elements of 1960s psychedelia with early electronic music and samples from esoteric sources; it earned the band a cult following.\\nBroadcast released three studio albums—The Noise Made by People (2000), Haha Sound (2003), and Tender Buttons (referencing Gertrude Stein's experimental book of poetry by the same name)   (2005)—on Warp Records, as well as several EPs and a collaborative album with the Focus Group titled Broadcast and The Focus Group Investigate Witch Cults of the Radio Age (2009). Their final release as a group was Distant Call, released in 2024.\\nAside from founding members Keenan and Cargill, Broadcast experienced regular lineup changes. The band has included Roj Stevens (keyboards), Tim Felton (guitar), and Steve Perkins (drums). Keith York, Phil Jenkins, Jeremy Barnes, Neil Bullock and Ash Sheehan have also featured in the band as touring or session drummers. From 2005 to 2011, Broadcast consisted only of the founding duo. Following the death of Keenan in 2011, Cargill oversaw all remaining Broadcast activity.\\n\\n\", 'title': 'Broadcast (band)'}]\n",
      "* [SIM=1.161695] == Life cycle == [{'source': 'https://en.wikipedia.org/wiki/Eel', 'summary': 'Eels are ray-finned fish belonging to the order Anguilliformes (), which consists of eight suborders, 20 families, 164 genera, and about 1000 species. Eels undergo considerable development from the early larval stage to the eventual adult stage and are usually predators.\\nThe term \"eel\" is also used for some other eel-shaped fish, such as electric eels (genus Electrophorus), swamp eels (order Synbranchiformes), and deep-sea spiny eels (family Notacanthidae). However, these other clades, with the exception of deep-sea spiny eels, whose order Notacanthiformes is the sister clade to true eels, evolved their eel-like shapes independently from the true eels. As a main rule, most eels are marine. Exceptions are the catadromous genus Anguilla and the freshwater moray, which spend most of their life in freshwater, the anadromous rice-paddy eel, which spawns in freshwater, and the freshwater snake eel Stictorhinus.', 'title': 'Eel'}]\n",
      "* [SIM=1.162575] associated with in life [{'source': 'https://en.wikipedia.org/wiki/Ghost', 'summary': 'In folklore, a ghost is the soul or spirit of a dead person or non-human animal that is believed by some people to be able to appear to the living. In ghostlore, descriptions of ghosts vary widely, from an invisible presence to translucent or barely visible wispy shapes to realistic, lifelike forms. The deliberate attempt to contact the spirit of a deceased person is known as necromancy, or in spiritism as a séance.  Other terms associated with it are apparition, haunt, haint, phantom, poltergeist, shade, specter, spirit, spook, wraith, demon, and ghoul.\\nThe belief in the existence of an afterlife, as well as manifestations of the spirits of the dead, is widespread, dating back to animism or ancestor worship in pre-literate cultures. Certain religious practices—funeral rites, exorcisms, and some practices of spiritualism and ritual magic—are specifically designed to rest the spirits of the dead. Ghosts are generally described as solitary, human-like essences, though stories of ghostly armies and the ghosts of animals other than humans have also been recounted. They are believed to haunt particular locations, objects, or people they were associated with in life. According to a 2009 study by the Pew Research Center, 18% of Americans say they have seen a ghost.\\nThe overwhelming consensus of science is that there is no proof that ghosts exist. Their existence is impossible to falsify, and ghost hunting has been classified as pseudoscience. Despite centuries of investigation, there is no scientific evidence that any location is inhabited by the spirits of the dead. Historically, certain toxic and psychoactive plants (such as datura and hyoscyamus niger), whose use has long been associated with necromancy and the underworld, have been shown to contain anticholinergic compounds that are pharmacologically linked to dementia (specifically DLB) as well as histological patterns of neurodegeneration. Recent research has indicated that ghost sightings may be related to degenerative brain diseases such as Alzheimer\\'s disease. Common prescription medication and over-the-counter drugs (such as sleep aids) may also, in rare instances, cause ghost-like hallucinations, particularly zolpidem and diphenhydramine. Older reports linked carbon monoxide poisoning to ghost-like hallucinations.\\nIn folklore studies, ghosts fall within the motif index designation E200–E599 (\"Ghosts and other revenants\").', 'title': 'Ghost'}]\n",
      "* [SIM=1.232738] to what lead to the deaths [{'source': 'https://en.wikipedia.org/wiki/Cult', 'summary': 'Cult is a term often applied to new religious movements and other social groups which have unusual, and often extreme, religious, spiritual, or philosophical beliefs and rituals. Extreme devotion to a particular person, object, or goal is another characteristic often ascribed to cults. The term has different, and sometimes divergent or pejorative, definitions both in popular culture and academia and has been an ongoing source of contention among scholars across several fields of study.\\nBeginning in the 1930s, new religious movements became an object of sociological study within the context of the study of religious behavior. Since the 1940s, the Christian countercult movement has opposed some sects and new religious movements, labeling them cults because of their unorthodox beliefs. Since the 1970s, the secular anti-cult movement has opposed certain groups, which they call cults, accusing them of practicing brainwashing. \\nGroups labelled cults are found around the world and range in size from small localized groups to some international organizations with up to millions of members.', 'title': 'Cult'}]\n",
      "* [SIM=1.282093] == Life and career == [{'source': 'https://en.wikipedia.org/wiki/Clairo', 'summary': 'Claire Elizabeth Cottrill (born August 18, 1998), known professionally as Clairo, is an American singer-songwriter born in Georgia and raised in Massachusetts. She began posting music on the internet at age 13.\\nClairo rose to prominence following the viral success of the music video for her lo-fi single \"Pretty Girl\" in 2017. She subsequently signed a record deal, releasing her debut EP Diary 001 (2018) with Fader Label. Her debut studio album Immunity (2019) spawned the singles \"Bags\" and \"Sofia\", the latter of which became her first single to chart on the Billboard Hot 100. Cottrill\\'s second studio album, Sling, was released in 2021 to commercial success, debuting in the top 20 of the US Billboard 200. Her third studio album, Charm, was self-released on July 12, 2024, and received a Grammy nomination for Best Alternative Music Album.', 'title': 'Clairo'}]\n",
      "* [SIM=1.282238] == Life and career == [{'source': 'https://en.wikipedia.org/wiki/Mabe_Fratti', 'summary': 'Mabe Fratti (born 1992) is a Guatemalan cellist and vocalist. Fratti works in a wide variety of genres. Her work includes collaborations with artists such as Belafonte Sensacional, and she is part of avant-garde music collective Amor Muere.\\n\\n', 'title': 'Mabe Fratti'}]\n",
      "* [SIM=1.282537] == Live == [{'source': 'https://en.wikipedia.org/wiki/Dance,_No_One%27s_Watching', 'summary': \"Dance, No One's Watching is the third studio album by London jazz quintet Ezra Collective, released on 27 September 2024 by Partisan Records. It was preceded by two singles.\\n\\n\", 'title': \"Dance, No One's Watching\"}]\n",
      "* [SIM=1.287331] \n",
      " SPIRIT OF THE BEEHIVE - YOU'LL HAVE TO LOSE SOMETHING [{'source': \"./Vote for KEXP's Best of 2024.html\", 'title': \"\\n        \\n        \\n        Vote for KEXP's Best of 2024\\n        \\n    \"}]\n",
      "* [SIM=1.287331] \n",
      " SPIRIT OF THE BEEHIVE - YOU'LL HAVE TO LOSE SOMETHING [{'source': \"./Vote for KEXP's Best of 2024.html\", 'title': \"\\n        \\n        \\n        Vote for KEXP's Best of 2024\\n        \\n    \"}]\n",
      "* [SIM=1.312797] == Legacy == [{'source': 'https://en.wikipedia.org/wiki/Beautiful_Freak', 'summary': 'Beautiful Freak is the debut album by American rock band Eels. It was released on 13 August 1996 and is the second album released by record label DreamWorks.\\n\\n', 'title': 'Beautiful Freak'}]\n",
      "* [SIM=1.324900] == Personal life == [{'source': 'https://en.wikipedia.org/wiki/Jules_Buckley', 'summary': 'Julian \"Jules\" Buckley (born 8 January 1980) is an English conductor, composer, and arranger.\\n\\n', 'title': 'Jules Buckley'}]\n"
     ]
    }
   ],
   "source": [
    "results = vector_store.similarity_search_with_score(\n",
    "    \"King Gizzard\",\n",
    "    k=15\n",
    ")\n",
    "\n",
    "for res, score in results:\n",
    "    print(f\"* [SIM={score:3f}] {res.page_content} [{res.metadata}]\")"
   ]
  },
  {
   "cell_type": "code",
   "execution_count": 67,
   "id": "0ee9453b",
   "metadata": {},
   "outputs": [
    {
     "name": "stdout",
     "output_type": "stream",
     "text": [
      "* Khruangbin - A LA SALA [{'source': \"./Vote for KEXP's Best of 2024.html\", 'title': \"\\n        \\n        \\n        Vote for KEXP's Best of 2024\\n        \\n    \"}]\n",
      "* Khruangbin - A LA SALA [{'source': \"./Vote for KEXP's Best of 2024.html\", 'title': \"\\n        \\n        \\n        Vote for KEXP's Best of 2024\\n        \\n    \"}]\n",
      "* Tyla - TYLA\n",
      "\n",
      " Kali Uchis - Orquídeas [{'source': \"./Vote for KEXP's Best of 2024.html\", 'title': \"\\n        \\n        \\n        Vote for KEXP's Best of 2024\\n        \\n    \"}]\n",
      "* Tyla - TYLA\n",
      "\n",
      " Kali Uchis - Orquídeas [{'source': \"./Vote for KEXP's Best of 2024.html\", 'title': \"\\n        \\n        \\n        Vote for KEXP's Best of 2024\\n        \\n    \"}]\n",
      "* Jordan Rakei - The Loop [{'source': \"./Vote for KEXP's Best of 2024.html\", 'title': \"\\n        \\n        \\n        Vote for KEXP's Best of 2024\\n        \\n    \"}]\n"
     ]
    }
   ],
   "source": [
    "results = vector_store.similarity_search_by_vector(\n",
    "    embedding=embedding_model.embed_query(\"Khruangbin - A LA SALA\"), k=5\n",
    ")\n",
    "for doc in results:\n",
    "    print(f\"* {doc.page_content} [{doc.metadata}]\")"
   ]
  }
 ],
 "metadata": {
  "kernelspec": {
   "display_name": ".venv",
   "language": "python",
   "name": "python3"
  },
  "language_info": {
   "codemirror_mode": {
    "name": "ipython",
    "version": 3
   },
   "file_extension": ".py",
   "mimetype": "text/x-python",
   "name": "python",
   "nbconvert_exporter": "python",
   "pygments_lexer": "ipython3",
   "version": "3.12.3"
  }
 },
 "nbformat": 4,
 "nbformat_minor": 5
}

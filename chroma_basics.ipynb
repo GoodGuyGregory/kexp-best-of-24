{
 "cells": [
  {
   "cell_type": "markdown",
   "id": "2e197540-a6d8-48b4-8d5c-0ace3d17657c",
   "metadata": {},
   "source": [
    "## Chroma Vector Database Basics"
   ]
  },
  {
   "cell_type": "markdown",
   "id": "03cd3f77",
   "metadata": {},
   "source": [
    "[LangChain Chroma Db](https://python.langchain.com/docs/integrations/vectorstores/chroma/#query-directly)"
   ]
  },
  {
   "cell_type": "markdown",
   "id": "3924587d-f0da-4096-91ad-f7f04b403d65",
   "metadata": {},
   "source": [
    "**Install Required Libraries**\n"
   ]
  },
  {
   "cell_type": "code",
   "execution_count": 4,
   "id": "924e73ab",
   "metadata": {},
   "outputs": [
    {
     "name": "stdout",
     "output_type": "stream",
     "text": [
      "\n",
      "\u001b[1m[\u001b[0m\u001b[34;49mnotice\u001b[0m\u001b[1;39;49m]\u001b[0m\u001b[39;49m A new release of pip is available: \u001b[0m\u001b[31;49m24.0\u001b[0m\u001b[39;49m -> \u001b[0m\u001b[32;49m24.3.1\u001b[0m\n",
      "\u001b[1m[\u001b[0m\u001b[34;49mnotice\u001b[0m\u001b[1;39;49m]\u001b[0m\u001b[39;49m To update, run: \u001b[0m\u001b[32;49mpip install --upgrade pip\u001b[0m\n",
      "Note: you may need to restart the kernel to use updated packages.\n"
     ]
    }
   ],
   "source": [
    "pip install -qU langchain-openai python-dotenv langchain-chroma"
   ]
  },
  {
   "cell_type": "markdown",
   "id": "ac5f67db",
   "metadata": {},
   "source": [
    "**Load OpenAI Credenitals**"
   ]
  },
  {
   "cell_type": "code",
   "execution_count": 3,
   "id": "d97de282",
   "metadata": {},
   "outputs": [],
   "source": [
    "from langchain_openai import OpenAIEmbeddings\n",
    "from dotenv import load_dotenv\n",
    "import os\n",
    "\n",
    "# Load the .environment variables\n",
    "load_dotenv()\n",
    "\n",
    "# sets API access keys\n",
    "OPEN_AI_API_KEY = os.getenv(\"OPEN_AI_API_KEY\")\n",
    "\n",
    "if not OPEN_AI_API_KEY:\n",
    "        raise ValueError(\"OPEN_AI_API_KEY not found, please add your API key in a .env\")\n",
    "    \n",
    "\n"
   ]
  },
  {
   "cell_type": "markdown",
   "id": "74143bea",
   "metadata": {},
   "source": [
    "**Create OpenAIEmbeddings Model for Chroma**"
   ]
  },
  {
   "cell_type": "code",
   "execution_count": 4,
   "id": "c7bbce77",
   "metadata": {},
   "outputs": [],
   "source": [
    "from langchain_openai import OpenAIEmbeddings\n",
    "\n",
    "# openai embedding model\n",
    "embedding_model = OpenAIEmbeddings(\n",
    "                        api_key=OPEN_AI_API_KEY,\n",
    "                        model=\"text-embedding-3-small\" \n",
    "                    )"
   ]
  },
  {
   "cell_type": "markdown",
   "id": "8f8a34e9",
   "metadata": {},
   "source": [
    "**Create Chroma Client**"
   ]
  },
  {
   "cell_type": "code",
   "execution_count": 5,
   "id": "223288a9",
   "metadata": {},
   "outputs": [],
   "source": [
    "\n",
    "from langchain_chroma import Chroma\n",
    "\n",
    "vector_store = Chroma(\n",
    "            embedding_function=embedding_model,\n",
    "            persist_directory='chroma_db',\n",
    "            collection_name=\"KEXP-24-Embeddings\"\n",
    "        )"
   ]
  },
  {
   "cell_type": "markdown",
   "id": "f5316d0e",
   "metadata": {},
   "source": [
    "**Query The Chroma Vector Database**"
   ]
  },
  {
   "cell_type": "code",
   "execution_count": 14,
   "id": "62ac44ba",
   "metadata": {},
   "outputs": [
    {
     "name": "stdout",
     "output_type": "stream",
     "text": [
      "* Beak> are an English experimental electronic rock music band formed in 2007 [{'source': 'https://en.wikipedia.org/wiki/Beak_(band)', 'summary': 'Beak> are an English experimental electronic rock music band formed in 2007. Until September 2024, the band comprised Geoff Barrow (of Portishead), Billy Fuller (of the Sensational Space Shifters) and Will Young (of Moon Gangs); Young replaced Matt Williams (MXLX, Fairhorns) in 2016. In 2024, Barrow announced his departure.\\n\\n', 'title': 'Beak (band)'}]\n",
      "* Beak> released its self-titled debut album on 16 November 2009 [{'source': 'https://en.wikipedia.org/wiki/Beak_(band)', 'summary': 'Beak> are an English experimental electronic rock music band formed in 2007. Until September 2024, the band comprised Geoff Barrow (of Portishead), Billy Fuller (of the Sensational Space Shifters) and Will Young (of Moon Gangs); Young replaced Matt Williams (MXLX, Fairhorns) in 2016. In 2024, Barrow announced his departure.\\n\\n', 'title': 'Beak (band)'}]\n",
      "* Beak> - >>>>\n",
      "\n",
      " Beau - Girl Who Cried Wolf [{'source': \"./Vote for KEXP's Best of 2024.html\", 'title': \"\\n        \\n        \\n        Vote for KEXP's Best of 2024\\n        \\n    \"}]\n"
     ]
    }
   ],
   "source": [
    "results = vector_store.similarity_search(\n",
    "    \"Who is the Band Beak>?\",\n",
    "    k=3\n",
    ")\n",
    "\n",
    "for res in results:\n",
    "    print(f\"* {res.page_content} [{res.metadata}]\")"
   ]
  }
 ],
 "metadata": {
  "kernelspec": {
   "display_name": ".venv",
   "language": "python",
   "name": "python3"
  },
  "language_info": {
   "codemirror_mode": {
    "name": "ipython",
    "version": 3
   },
   "file_extension": ".py",
   "mimetype": "text/x-python",
   "name": "python",
   "nbconvert_exporter": "python",
   "pygments_lexer": "ipython3",
   "version": "3.12.3"
  }
 },
 "nbformat": 4,
 "nbformat_minor": 5
}

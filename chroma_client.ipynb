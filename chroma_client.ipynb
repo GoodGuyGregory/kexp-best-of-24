{
 "cells": [
  {
   "cell_type": "markdown",
   "metadata": {},
   "source": [
    "## Chroma Client \n",
    "\n",
    "[Create-Get-Delete](https://docs.trychroma.com/docs/collections/create-get-delete)"
   ]
  },
  {
   "cell_type": "code",
   "execution_count": null,
   "metadata": {},
   "outputs": [],
   "source": [
    "pip install chromadb python-dotenv"
   ]
  },
  {
   "cell_type": "markdown",
   "metadata": {},
   "source": [
    "**Create a PersistentClient**"
   ]
  },
  {
   "cell_type": "code",
   "execution_count": 3,
   "metadata": {},
   "outputs": [],
   "source": [
    "import chromadb\n",
    "\n",
    "# create a client that will load our existing chromadb\n",
    "client = chromadb.PersistentClient(path=\"chroma_db/\")\n"
   ]
  },
  {
   "cell_type": "markdown",
   "metadata": {},
   "source": [
    "**Check Our Connection**"
   ]
  },
  {
   "cell_type": "code",
   "execution_count": 4,
   "metadata": {},
   "outputs": [
    {
     "data": {
      "text/plain": [
       "1735245459547403000"
      ]
     },
     "execution_count": 4,
     "metadata": {},
     "output_type": "execute_result"
    }
   ],
   "source": [
    "client.heartbeat()"
   ]
  },
  {
   "cell_type": "markdown",
   "metadata": {},
   "source": [
    "**Getting Our Data Metrics**"
   ]
  },
  {
   "cell_type": "code",
   "execution_count": 7,
   "metadata": {},
   "outputs": [],
   "source": [
    "from dotenv import load_dotenv\n",
    "import os\n",
    "\n",
    "load_dotenv()\n",
    "\n",
    "# loads the .env file with LLM API Keys\n",
    "load_dotenv()\n",
    "\n",
    "# sets API access keys\n",
    "OPEN_AI_API_KEY = os.getenv(\"OPEN_AI_API_KEY\")\n",
    "\n",
    "if not OPEN_AI_API_KEY:\n",
    "    raise ValueError(\"OPEN_AI_API_KEY not found, please add your API key in a .env\")\n",
    "    "
   ]
  },
  {
   "cell_type": "markdown",
   "metadata": {},
   "source": [
    "**Create Embedding Function**\n",
    "\n",
    "[Emedding Functions](https://docs.trychroma.com/integrations/embedding-models/openai) tell Chroma what type of embedding to look for when making queries to the Chroma client"
   ]
  },
  {
   "cell_type": "code",
   "execution_count": 30,
   "metadata": {},
   "outputs": [],
   "source": [
    "# get openai embedding function\n",
    "import chromadb.utils.embedding_functions as embedding_functions\n",
    "\n",
    "# create embedding_function object\n",
    "openai_ef = embedding_functions.OpenAIEmbeddingFunction(\n",
    "                api_key=OPEN_AI_API_KEY,\n",
    "                model_name=\"text-embedding-3-small\"\n",
    "            )\n"
   ]
  },
  {
   "cell_type": "markdown",
   "metadata": {},
   "source": [
    "**Get Collection Details**\n",
    "\n",
    "[Create and Get and Delete](https://docs.trychroma.com/docs/collections/create-get-delete) processing the collection for the standard `CRUD` operations requires a `collection` primitive.\n",
    "\n",
    "\n",
    "```python\n",
    "# create the collection if it doesn't exist\n",
    "collection = client.create_collection(name=\"my_collection\", embedding_function=emb_fn)\n",
    "\n",
    "# get's a collection if it exists\n",
    "collection = client.get_collection(name=\"my_collection\", embedding_function=emb_fn)\n",
    "```\n",
    "\n"
   ]
  },
  {
   "cell_type": "code",
   "execution_count": 31,
   "metadata": {},
   "outputs": [
    {
     "data": {
      "text/plain": [
       "{'ids': ['4c90c3e2-4acd-4b5d-a37b-2dee221875e2',\n",
       "  '0fad0c70-7340-407e-9f00-0e53170a8e48',\n",
       "  'd7b2ee45-313c-4000-b19c-5119cca18025',\n",
       "  'a3e634d8-ec70-4c7c-b141-3779a02b22c2',\n",
       "  'c3f24a92-0de3-4c10-9245-709df95d75eb',\n",
       "  'f7ac6af4-3bfc-4770-95c3-03b364ce2bd5',\n",
       "  '89e5b1e7-2b15-452b-b503-80c973d1df40',\n",
       "  '0ee7053c-ba36-493e-a586-740693b6d120',\n",
       "  'be597368-5c4e-4dc4-96ee-1ff705893542',\n",
       "  '7ac7c9c2-c120-40c5-bb1b-eb44fa18b5df'],\n",
       " 'embeddings': array([[-1.60320718e-02, -5.72213493e-02,  3.75896972e-03, ...,\n",
       "         -2.57682018e-02,  4.63562012e-02, -1.74533091e-02],\n",
       "        [-1.52583746e-02,  2.94168349e-02,  7.39516318e-03, ...,\n",
       "          1.51413623e-02,  1.63465869e-02, -5.04556075e-02],\n",
       "        [ 3.74108693e-03,  3.49985845e-02, -3.90326865e-02, ...,\n",
       "         -4.49202992e-02,  2.66577993e-02,  5.14825340e-03],\n",
       "        ...,\n",
       "        [ 8.28020554e-03, -2.33449154e-02, -2.96986569e-02, ...,\n",
       "          6.77739881e-05,  1.68356206e-02,  9.78787336e-03],\n",
       "        [ 5.62553070e-02, -4.07588333e-02, -3.99469994e-02, ...,\n",
       "          1.63680017e-02,  3.50282416e-02,  2.36028749e-02],\n",
       "        [ 3.01975906e-02,  3.20588686e-02,  3.07431370e-02, ...,\n",
       "         -1.76018905e-02,  9.39462800e-03, -2.67638583e-02]]),\n",
       " 'documents': [\"Vote for KEXP's Best of 2024\",\n",
       "  'Menu',\n",
       "  'Listen\\nWatch\\nRead',\n",
       "  'Events\\nVisit KEXP\\nDonor Lounge\\nPlaylist\\nDonate',\n",
       "  'Menu',\n",
       "  '\\n0 seconds of 0 secondsVolume 100%Press shift question mark to access a list of keyboard shortcutsKeyboard ShortcutsEnabledDisabledShortcuts Open/Close/ or ?Play/PauseSPACEIncrease Volume↑Decrease Volume↓Seek Forward→Seek Backward←Captions On/OffcFullscreen/Exit FullscreenfMute/UnmutemDecrease Caption Size-Increase Caption Size+ or =Seek %0-9',\n",
       "  'Live00:0000:0000:00\\xa0\\n\\nListen Live',\n",
       "  'Now Playing\\nEl Sonido with Albina Cabrera',\n",
       "  'Barbacius – Prefiero Dejarlo Asi',\n",
       "  'Close\\n      \\n\\n\\n\\n\\n\\n\\n\\n\\n\\n \\n\\n\\n\\nSearch'],\n",
       " 'uris': None,\n",
       " 'data': None,\n",
       " 'metadatas': [{'source': \"./Vote for KEXP's Best of 2024.html\",\n",
       "   'title': \"\\n        \\n        \\n        Vote for KEXP's Best of 2024\\n        \\n    \"},\n",
       "  {'source': \"./Vote for KEXP's Best of 2024.html\",\n",
       "   'title': \"\\n        \\n        \\n        Vote for KEXP's Best of 2024\\n        \\n    \"},\n",
       "  {'source': \"./Vote for KEXP's Best of 2024.html\",\n",
       "   'title': \"\\n        \\n        \\n        Vote for KEXP's Best of 2024\\n        \\n    \"},\n",
       "  {'source': \"./Vote for KEXP's Best of 2024.html\",\n",
       "   'title': \"\\n        \\n        \\n        Vote for KEXP's Best of 2024\\n        \\n    \"},\n",
       "  {'source': \"./Vote for KEXP's Best of 2024.html\",\n",
       "   'title': \"\\n        \\n        \\n        Vote for KEXP's Best of 2024\\n        \\n    \"},\n",
       "  {'source': \"./Vote for KEXP's Best of 2024.html\",\n",
       "   'title': \"\\n        \\n        \\n        Vote for KEXP's Best of 2024\\n        \\n    \"},\n",
       "  {'source': \"./Vote for KEXP's Best of 2024.html\",\n",
       "   'title': \"\\n        \\n        \\n        Vote for KEXP's Best of 2024\\n        \\n    \"},\n",
       "  {'source': \"./Vote for KEXP's Best of 2024.html\",\n",
       "   'title': \"\\n        \\n        \\n        Vote for KEXP's Best of 2024\\n        \\n    \"},\n",
       "  {'source': \"./Vote for KEXP's Best of 2024.html\",\n",
       "   'title': \"\\n        \\n        \\n        Vote for KEXP's Best of 2024\\n        \\n    \"},\n",
       "  {'source': \"./Vote for KEXP's Best of 2024.html\",\n",
       "   'title': \"\\n        \\n        \\n        Vote for KEXP's Best of 2024\\n        \\n    \"}],\n",
       " 'included': [<IncludeEnum.embeddings: 'embeddings'>,\n",
       "  <IncludeEnum.documents: 'documents'>,\n",
       "  <IncludeEnum.metadatas: 'metadatas'>]}"
      ]
     },
     "execution_count": 31,
     "metadata": {},
     "output_type": "execute_result"
    }
   ],
   "source": [
    "# search for the KEXP collection\n",
    "collection = client.get_collection(name=\"KEXP-24-Embeddings\", embedding_function=openai_ef)\n",
    "\n",
    "\n",
    "# look at the last item of the data base \n",
    "collection.peek() \n",
    "\n"
   ]
  },
  {
   "cell_type": "code",
   "execution_count": 32,
   "metadata": {},
   "outputs": [
    {
     "name": "stdout",
     "output_type": "stream",
     "text": [
      "objects within the collection: 28911\n"
     ]
    }
   ],
   "source": [
    "# looks at a count\n",
    "print(\"objects within the collection: \" + str(collection.count() ))"
   ]
  },
  {
   "cell_type": "markdown",
   "metadata": {},
   "source": [
    "**Querying the Database**\n",
    "\n",
    "[Query and Get](https://docs.trychroma.com/docs/querying-collections/query-and-get) the objects can be queried. You can also query by a set of `query texts`. Chroma will first embed each query text with the collection's embedding function, and then perform the query with the generated embedding.\n",
    "\n",
    "\n",
    "\n",
    "```python\n",
    "collection.query(\n",
    "    query_texts=[\"Khruangbin\"],\n",
    "    n_results=5,\n",
    "    include=['documents', 'distances', 'metadatas']\n",
    ")\n",
    "```"
   ]
  },
  {
   "cell_type": "code",
   "execution_count": null,
   "metadata": {},
   "outputs": [
    {
     "data": {
      "text/plain": [
       "{'ids': [['f2d55fc2-441c-47d2-81e7-6dfc6abd171e',\n",
       "   '31d2f7fc-fe75-408a-b626-f5897edd4a4a',\n",
       "   'adcaf685-92ea-43fb-a60e-362cf6db3451',\n",
       "   'fcf905dc-0003-4e20-8a1c-57706100d2ee',\n",
       "   '70a2e377-b96c-4a92-9cdc-ee5133a3677d',\n",
       "   '242ec70d-40f0-4036-826f-bcc370deb2ee',\n",
       "   'e7ed8fba-3e3b-43d7-a6db-8f08cf3ad47f',\n",
       "   '865ddeeb-25f0-491c-9909-a269eced4198',\n",
       "   'b7fc25a7-f02d-4461-b55b-4aab9d8598ec',\n",
       "   '5330af7f-a19e-43a6-ae79-bc3fefd4a873',\n",
       "   'e173d09d-0f01-4419-87ac-3459d1e8f2af',\n",
       "   '74da7880-443d-4622-b175-fee1085da390',\n",
       "   '1d135866-f887-49db-a21a-3934458ca1f0',\n",
       "   '45b86f1d-4e2d-420a-bbb6-f659b2e9e480',\n",
       "   '80bbdded-6b82-4811-81c5-1b351a0b5b29']],\n",
       " 'embeddings': None,\n",
       " 'documents': [['Japandroids - Fate & Alcohol',\n",
       "   '. DIIV also supported the Canadian duo Japandroids on their East Coast US tour in November–December',\n",
       "   'independent label Jagjaguwar',\n",
       "   'artists including Weyes Blood, Evan Dando, and J Mascis',\n",
       "   'J Mascis - What Do We Do Now',\n",
       "   'Name into smaller, more straightforward indie rock',\n",
       "   '\"punk, post-punk, jangle pop and new wave\"',\n",
       "   '. Spacemen 3, Loop, Dinosaur Jr',\n",
       "   'Mac DeMarco, Dirty Projectors, Tune-Yards and Yeasayer',\n",
       "   'Mac DeMarco, Dirty Projectors, Tune-Yards and Yeasayer',\n",
       "   'Stone Roses and Sonic Youth',\n",
       "   'On 15 May 2024, the group revealed they had signed to American independent label, Jagjaguwar, and',\n",
       "   \"Built to Spill, Yeasayer, Dirty Projectors, Sonic Youth's Lee Ranaldo, Dr\",\n",
       "   \"Built to Spill, Yeasayer, Dirty Projectors, Sonic Youth's Lee Ranaldo, Dr\",\n",
       "   'Jagjaguwar, and announced their third studio album, Red Mile, set to be released 26 July']],\n",
       " 'uris': None,\n",
       " 'data': None,\n",
       " 'metadatas': [[{'source': \"./Vote for KEXP's Best of 2024.html\",\n",
       "    'title': \"\\n        \\n        \\n        Vote for KEXP's Best of 2024\\n        \\n    \"},\n",
       "   {'source': 'https://en.wikipedia.org/wiki/DIIV',\n",
       "    'summary': 'DIIV (pronounced and formerly known as Dive) is an American rock band from Brooklyn, New York City, formed in 2011. The band consists of Zachary Cole Smith (vocals, guitar), Andrew Bailey (guitar), Colin Caulfield (bass, keyboards, guitar, vocals) and Ben Newman (drums).\\nInitially called Dive, the band started as Smith\\'s solo recording project. After releasing three singles—\"Sometime\", \"Human\" and \"Geist\"—on Captured Tracks, DIIV released its debut studio album, Oshin, on June 26, 2012.\\nIn 2016, the band released its second studio album, Is the Is Are, after a lengthy and troubled creation. On October 4, 2019, DIIV\\'s third album, Deceiver, was released on Captured Tracks.\\nOn May 24, 2024, DIIV released their fourth album, Frog in Boiling Water, to critical acclaim.',\n",
       "    'title': 'DIIV'},\n",
       "   {'source': 'https://en.wikipedia.org/wiki/Crack_Cloud',\n",
       "    'summary': \"Crack Cloud are a Canadian musical and multimedia collective currently based in Calgary, Alberta, formed by drummer and frontman Zach Choy. Alongside the group's core musical members who perform live as a band, a large number of multimedia artists are also associated and operate simultaneously as an in-house production studio within the group, due to the project's strong focus on visual storytelling.\\nTo date, they have released three studio albums: Pain Olympics (2020), Tough Baby (2022) and their third album Red Mile, which was released at 26 July 2024, via American independent label Jagjaguwar.\\n\\n\",\n",
       "    'title': 'Crack Cloud'},\n",
       "   {'source': 'https://en.wikipedia.org/wiki/Grace_Cummings',\n",
       "    'summary': 'Grace Cummings is an Australian singer-songwriter and stage actor from Melbourne. She has released three studio albums: Refuge Cove (2019), Storm Queen (2022), and Ramona (2024). She is known for her unique singing voice, which has been described as \"commanding and magnetic\", powerful, and as having a \"devastating force\". Cummings\\' musical influences include Irish folk music, Townes Van Zandt, Bob Dylan, and Lucinda Williams. \\n\\n',\n",
       "    'title': 'Grace Cummings'},\n",
       "   {'source': \"./Vote for KEXP's Best of 2024.html\",\n",
       "    'title': \"\\n        \\n        \\n        Vote for KEXP's Best of 2024\\n        \\n    \"},\n",
       "   {'source': 'https://en.wikipedia.org/wiki/New_Last_Name',\n",
       "    'summary': \"New Last Name is the second studio album by British band Courting, released on 26 January 2024 through Lower Third and PIAS Recordings. The album was primarily produced by frontman Sean Murphy O'Neill and producer Robert Whiteley, with two tracks co-produced by Cribs members, twin brothers Gary and Ryan Jarman. It received positive reviews from critics.\\n\\n\",\n",
       "    'title': 'New Last Name'},\n",
       "   {'source': 'https://en.wikipedia.org/wiki/The_Belair_Lip_Bombs',\n",
       "    'summary': 'The Belair Lip Bombs are an Australian indie rock band formed in Frankston, Victoria in 2017. The group consists of lead vocalist, guitarist and keyboardist Maisie Everett, guitarist Mike Bradvica, bassist Jimmy Droughton and drummer Daniel Devlin. They have released two extended plays and issued their debut studio album, Lush Life, in August 2023.',\n",
       "    'title': 'The Belair Lip Bombs'},\n",
       "   {'source': 'https://en.wikipedia.org/wiki/Ride_(band)',\n",
       "    'summary': 'Ride  are an English rock band formed in Oxford in 1988. The band consists of vocalists and guitarists Andy Bell and Mark Gardener, drummer Laurence \"Loz\" Colbert and bassist Steve Queralt. They have been recognised as one of the key pioneers of shoegaze, an alternative rock subgenre that emerged to prominence in the United Kingdom during the early 1990s.\\nThe band\\'s first two albums, Nowhere (1990) and Going Blank Again (1992), have been critically acclaimed as two of the greatest shoegaze albums of all time. The latter\\'s lead single, \"Leave Them All Behind\", was the band\\'s most commercially successful song, reaching No. 9 on the UK Singles Chart. Both Going Blank Again and its 1994 follow-up, Carnival of Light, peaked at No. 5 on the UK Albums Chart.\\nRide broke up in 1996 prior to the release of their fourth album Tarantula, which received negative reviews. Bell joined Oasis in 1999 as their bassist. The band reunited in 2014 to tour again, and also put out the albums Weather Diaries (2017), This Is Not a Safe Place (2019) and Interplay (2024).',\n",
       "    'title': 'Ride (band)'},\n",
       "   {'source': 'https://en.wikipedia.org/wiki/Delicate_Steve',\n",
       "    'summary': \"Delicate Steve is the stage name of musician Steve Marion, an American multi-instrumentalist who leads the band of the same name. Delicate Steve's sound has been described as hand-crafted with elements of progressive rock, folksy twang, African rhythms, surf rock and 1970s pop. Marion has collaborated with a wide range of artists in a variety of styles and genres, performing live and recording in-studio with artists such as The Black Keys, Paul Simon, Amen Dunes, Mac DeMarco, Tame Impala, and others.\",\n",
       "    'title': 'Delicate Steve'},\n",
       "   {'source': 'https://en.wikipedia.org/wiki/Delicate_Steve',\n",
       "    'summary': \"Delicate Steve is the stage name of musician Steve Marion, an American multi-instrumentalist who leads the band of the same name. Delicate Steve's sound has been described as hand-crafted with elements of progressive rock, folksy twang, African rhythms, surf rock and 1970s pop. Marion has collaborated with a wide range of artists in a variety of styles and genres, performing live and recording in-studio with artists such as The Black Keys, Paul Simon, Amen Dunes, Mac DeMarco, Tame Impala, and others.\",\n",
       "    'title': 'Delicate Steve'},\n",
       "   {'source': 'https://en.wikipedia.org/wiki/Ride_(band)',\n",
       "    'summary': 'Ride  are an English rock band formed in Oxford in 1988. The band consists of vocalists and guitarists Andy Bell and Mark Gardener, drummer Laurence \"Loz\" Colbert and bassist Steve Queralt. They have been recognised as one of the key pioneers of shoegaze, an alternative rock subgenre that emerged to prominence in the United Kingdom during the early 1990s.\\nThe band\\'s first two albums, Nowhere (1990) and Going Blank Again (1992), have been critically acclaimed as two of the greatest shoegaze albums of all time. The latter\\'s lead single, \"Leave Them All Behind\", was the band\\'s most commercially successful song, reaching No. 9 on the UK Singles Chart. Both Going Blank Again and its 1994 follow-up, Carnival of Light, peaked at No. 5 on the UK Albums Chart.\\nRide broke up in 1996 prior to the release of their fourth album Tarantula, which received negative reviews. Bell joined Oasis in 1999 as their bassist. The band reunited in 2014 to tour again, and also put out the albums Weather Diaries (2017), This Is Not a Safe Place (2019) and Interplay (2024).',\n",
       "    'title': 'Ride (band)'},\n",
       "   {'source': 'https://en.wikipedia.org/wiki/Crack_Cloud',\n",
       "    'summary': \"Crack Cloud are a Canadian musical and multimedia collective currently based in Calgary, Alberta, formed by drummer and frontman Zach Choy. Alongside the group's core musical members who perform live as a band, a large number of multimedia artists are also associated and operate simultaneously as an in-house production studio within the group, due to the project's strong focus on visual storytelling.\\nTo date, they have released three studio albums: Pain Olympics (2020), Tough Baby (2022) and their third album Red Mile, which was released at 26 July 2024, via American independent label Jagjaguwar.\\n\\n\",\n",
       "    'title': 'Crack Cloud'},\n",
       "   {'source': 'https://en.wikipedia.org/wiki/Delicate_Steve',\n",
       "    'summary': \"Delicate Steve is the stage name of musician Steve Marion, an American multi-instrumentalist who leads the band of the same name. Delicate Steve's sound has been described as hand-crafted with elements of progressive rock, folksy twang, African rhythms, surf rock and 1970s pop. Marion has collaborated with a wide range of artists in a variety of styles and genres, performing live and recording in-studio with artists such as The Black Keys, Paul Simon, Amen Dunes, Mac DeMarco, Tame Impala, and others.\",\n",
       "    'title': 'Delicate Steve'},\n",
       "   {'source': 'https://en.wikipedia.org/wiki/Delicate_Steve',\n",
       "    'summary': \"Delicate Steve is the stage name of musician Steve Marion, an American multi-instrumentalist who leads the band of the same name. Delicate Steve's sound has been described as hand-crafted with elements of progressive rock, folksy twang, African rhythms, surf rock and 1970s pop. Marion has collaborated with a wide range of artists in a variety of styles and genres, performing live and recording in-studio with artists such as The Black Keys, Paul Simon, Amen Dunes, Mac DeMarco, Tame Impala, and others.\",\n",
       "    'title': 'Delicate Steve'},\n",
       "   {'source': 'https://en.wikipedia.org/wiki/Crack_Cloud',\n",
       "    'summary': \"Crack Cloud are a Canadian musical and multimedia collective currently based in Calgary, Alberta, formed by drummer and frontman Zach Choy. Alongside the group's core musical members who perform live as a band, a large number of multimedia artists are also associated and operate simultaneously as an in-house production studio within the group, due to the project's strong focus on visual storytelling.\\nTo date, they have released three studio albums: Pain Olympics (2020), Tough Baby (2022) and their third album Red Mile, which was released at 26 July 2024, via American independent label Jagjaguwar.\\n\\n\",\n",
       "    'title': 'Crack Cloud'}]],\n",
       " 'distances': [[0.5204551815986633,\n",
       "   0.9478690028190613,\n",
       "   1.0531339645385742,\n",
       "   1.1031116247177124,\n",
       "   1.1295784711837769,\n",
       "   1.1447235345840454,\n",
       "   1.1479220390319824,\n",
       "   1.1598509550094604,\n",
       "   1.1701650619506836,\n",
       "   1.1702316999435425,\n",
       "   1.17274010181427,\n",
       "   1.173615574836731,\n",
       "   1.1768518686294556,\n",
       "   1.1768897771835327,\n",
       "   1.1829431056976318]],\n",
       " 'included': [<IncludeEnum.distances: 'distances'>,\n",
       "  <IncludeEnum.documents: 'documents'>,\n",
       "  <IncludeEnum.metadatas: 'metadatas'>]}"
      ]
     },
     "execution_count": 40,
     "metadata": {},
     "output_type": "execute_result"
    }
   ],
   "source": [
    "collection.query(\n",
    "    query_texts=[\"Khruangbin\"],\n",
    "    n_results=15,\n",
    "    include=['documents', 'distances', 'metadatas']\n",
    ")"
   ]
  }
 ],
 "metadata": {
  "kernelspec": {
   "display_name": ".venv",
   "language": "python",
   "name": "python3"
  },
  "language_info": {
   "codemirror_mode": {
    "name": "ipython",
    "version": 3
   },
   "file_extension": ".py",
   "mimetype": "text/x-python",
   "name": "python",
   "nbconvert_exporter": "python",
   "pygments_lexer": "ipython3",
   "version": "3.12.3"
  }
 },
 "nbformat": 4,
 "nbformat_minor": 2
}

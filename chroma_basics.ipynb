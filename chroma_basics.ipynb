{
 "cells": [
  {
   "cell_type": "markdown",
   "id": "2e197540-a6d8-48b4-8d5c-0ace3d17657c",
   "metadata": {},
   "source": [
    "## Chroma Vector Database Basics"
   ]
  },
  {
   "cell_type": "markdown",
   "id": "03cd3f77",
   "metadata": {},
   "source": [
    "[LangChain Chroma Db](https://python.langchain.com/docs/integrations/vectorstores/chroma/#query-directly)"
   ]
  },
  {
   "cell_type": "markdown",
   "id": "3924587d-f0da-4096-91ad-f7f04b403d65",
   "metadata": {},
   "source": [
    "**Install Required Libraries**\n"
   ]
  },
  {
   "cell_type": "code",
   "execution_count": null,
   "id": "924e73ab",
   "metadata": {},
   "outputs": [],
   "source": []
  }
 ],
 "metadata": {
  "kernelspec": {
   "display_name": "Python 3 (ipykernel)",
   "language": "python",
   "name": "python3"
  },
  "language_info": {
   "codemirror_mode": {
    "name": "ipython",
    "version": 3
   },
   "file_extension": ".py",
   "mimetype": "text/x-python",
   "name": "python",
   "nbconvert_exporter": "python",
   "pygments_lexer": "ipython3",
   "version": "3.12.3"
  }
 },
 "nbformat": 4,
 "nbformat_minor": 5
}

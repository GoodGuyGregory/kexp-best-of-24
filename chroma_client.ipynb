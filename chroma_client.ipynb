{
 "cells": [
  {
   "cell_type": "markdown",
   "metadata": {},
   "source": [
    "## Chroma Client \n",
    "\n",
    "[Create-Get-Delete](https://docs.trychroma.com/docs/collections/create-get-delete)"
   ]
  },
  {
   "cell_type": "code",
   "execution_count": null,
   "metadata": {},
   "outputs": [],
   "source": [
    "pip install chromadb python-dotenv"
   ]
  },
  {
   "cell_type": "markdown",
   "metadata": {},
   "source": [
    "**Create a PersistentClient**"
   ]
  },
  {
   "cell_type": "code",
   "execution_count": 3,
   "metadata": {},
   "outputs": [],
   "source": [
    "import chromadb\n",
    "\n",
    "# create a client that will load our existing chromadb\n",
    "client = chromadb.PersistentClient(path=\"chroma_db/\")\n"
   ]
  },
  {
   "cell_type": "markdown",
   "metadata": {},
   "source": [
    "**Check Our Connection**"
   ]
  },
  {
   "cell_type": "code",
   "execution_count": 4,
   "metadata": {},
   "outputs": [
    {
     "data": {
      "text/plain": [
       "1735245459547403000"
      ]
     },
     "execution_count": 4,
     "metadata": {},
     "output_type": "execute_result"
    }
   ],
   "source": [
    "client.heartbeat()"
   ]
  },
  {
   "cell_type": "markdown",
   "metadata": {},
   "source": [
    "**Getting Our Data Metrics**"
   ]
  },
  {
   "cell_type": "code",
   "execution_count": 7,
   "metadata": {},
   "outputs": [],
   "source": [
    "from dotenv import load_dotenv\n",
    "import os\n",
    "\n",
    "load_dotenv()\n",
    "\n",
    "# loads the .env file with LLM API Keys\n",
    "load_dotenv()\n",
    "\n",
    "# sets API access keys\n",
    "OPEN_AI_API_KEY = os.getenv(\"OPEN_AI_API_KEY\")\n",
    "\n",
    "if not OPEN_AI_API_KEY:\n",
    "    raise ValueError(\"OPEN_AI_API_KEY not found, please add your API key in a .env\")\n",
    "    "
   ]
  },
  {
   "cell_type": "markdown",
   "metadata": {},
   "source": [
    "**Create Embedding Function**\n",
    "\n",
    "[Emedding Functions](https://docs.trychroma.com/integrations/embedding-models/openai) tell Chroma what type of embedding to look for when making queries to the Chroma client"
   ]
  },
  {
   "cell_type": "code",
   "execution_count": 9,
   "metadata": {},
   "outputs": [],
   "source": [
    "# get openai embedding function\n",
    "import chromadb.utils.embedding_functions as embedding_functions\n",
    "\n",
    "# create embedding_function object\n",
    "openai_ef = embedding_functions.OpenAIEmbeddingFunction(\n",
    "                api_key=OPEN_AI_API_KEY,\n",
    "                model_name=\"text-embedding-3-small\"\n",
    "            )\n"
   ]
  },
  {
   "cell_type": "markdown",
   "metadata": {},
   "source": [
    "**Get Collection Details**\n",
    "\n",
    "[Create and Get and Delete](https://docs.trychroma.com/docs/collections/create-get-delete) processing the collection for the standard `CRUD` operations requires a `collection` primitive.\n",
    "\n",
    "\n",
    "```python\n",
    "# create the collection if it doesn't exist\n",
    "collection = client.create_collection(name=\"my_collection\", embedding_function=emb_fn)\n",
    "\n",
    "# get's a collection if it exists\n",
    "collection = client.get_collection(name=\"my_collection\", embedding_function=emb_fn)\n",
    "```\n",
    "\n"
   ]
  },
  {
   "cell_type": "code",
   "execution_count": null,
   "metadata": {},
   "outputs": [],
   "source": [
    "# search for the KEXP collection\n",
    "collection = client.get_collection(name=\"KEXP-24-Embeddings\", embedding_function=openai_ef)\n",
    "\n",
    "\n",
    "# look at the last item of the data base \n",
    "collection.peek() \n",
    "\n"
   ]
  },
  {
   "cell_type": "code",
   "execution_count": 15,
   "metadata": {},
   "outputs": [
    {
     "name": "stdout",
     "output_type": "stream",
     "text": [
      "objects within the collection: 12469\n"
     ]
    }
   ],
   "source": [
    "# looks at a count\n",
    "print(\"objects within the collection: \" + str(collection.count() ))"
   ]
  },
  {
   "cell_type": "markdown",
   "metadata": {},
   "source": [
    "**Querying the Database**\n",
    "\n",
    "[Query and Get](https://docs.trychroma.com/docs/querying-collections/query-and-get) the objects can be queried. You can also query by a set of `query texts`. Chroma will first embed each query text with the collection's embedding function, and then perform the query with the generated embedding.\n",
    "\n",
    "\n",
    "\n",
    "```python\n",
    "collection.query(\n",
    "    query_texts=[\"Khurangbin\"],\n",
    "    n_results=5,\n",
    "    include=['documents', 'distances', 'metadatas']\n",
    ")\n",
    "```"
   ]
  },
  {
   "cell_type": "code",
   "execution_count": 26,
   "metadata": {},
   "outputs": [
    {
     "data": {
      "text/plain": [
       "{'ids': [['584c45d7-6dfd-4f51-89a4-521fceabe017',\n",
       "   'a2f71648-bab7-4273-a8ae-13b8c32c364d',\n",
       "   '5526decc-470b-41a1-a701-2e8a60f1cad8',\n",
       "   '98c2cbe1-40c6-4ac2-80c5-214e43b7cdfe',\n",
       "   '9c6da98f-c355-4e2f-bbaf-2d1a7b8e82a3']],\n",
       " 'embeddings': None,\n",
       " 'documents': [['Markus Stockhausen; Emilie-Claire Barlow; Michael Kiwanuka; Louis Cole; Jonathan Jeremiah; Basement',\n",
       "   'Amen Dunes\\nAmen Dunes at Sacred Bones Records',\n",
       "   'including: The Belligerents, Moses Gunn Collective and The Jungle Giants, and use pseudonyms in',\n",
       "   'Kim Gordon - The Collective',\n",
       "   'Thee Oh Sees and WAND']],\n",
       " 'uris': None,\n",
       " 'data': None,\n",
       " 'metadatas': [[{'source': 'https://en.wikipedia.org/wiki/Jules_Buckley',\n",
       "    'summary': 'Julian \"Jules\" Buckley (born 8 January 1980) is an English conductor, composer, and arranger.',\n",
       "    'title': 'Jules Buckley'},\n",
       "   {'source': 'https://en.wikipedia.org/wiki/Amen_Dunes',\n",
       "    'summary': 'Amen Dunes was the musical project formed by American singer-songwriter and musician Damon McMahon in 2006.',\n",
       "    'title': 'Amen Dunes'},\n",
       "   {'source': 'https://en.wikipedia.org/wiki/Confidence_Man_(band)',\n",
       "    'summary': 'Confidence Man are an Australian indie electro pop band formed in 2016 in Brisbane, Queensland. They released their debut album Confident Music for Confident People in April 2018. The front-duo and their band members have been a part of many festivals across the United Kingdom, Europe and Australia, most notably Glastonbury Festival.\\n\\n',\n",
       "    'title': 'Confidence Man (band)'},\n",
       "   {'source': \"./Vote for KEXP's Best of 2024.html\",\n",
       "    'title': \"\\n        \\n        \\n        Vote for KEXP's Best of 2024\\n        \\n    \"},\n",
       "   {'source': 'https://en.wikipedia.org/wiki/Summer_Cannibals_(band)',\n",
       "    'summary': 'Summer Cannibals was a rock band from Portland, Oregon featuring lead singer and guitarist Jessica Boudreaux, drummer Devon Shirley (formerly of the bands The Photo Atlas and Red Orange Yellow), guitarist Cassi Blum and bassist Ethan Butman. Their debut album, No Makeup, was released on New Moss Records on August 6, 2013. Their follow up \\nalbum, Show Us Your Mind, was produced, recorded, and mixed by Larry Crane and released on New Moss Records on March 3, 2015. The album received favorable reviews from critics such as Entertainment Weekly, which stated that the album featured “songs that refine the fuzzy garage-pop of its debut into something sharper, tighter, and much more difficult to shake off.”\\nSummer Cannibals toured nationwide supporting the Show Us Your Mind album, including sets at SXSW and CMJ in 2015. Following their return in the fall, the band recorded their third full-length album with Chris Woodhouse, the engineer on records from artists including Ty Segall, Thee Oh Sees and WAND.\\nIn February 2016, the band announced that its third full-length album would be released on independent label Kill Rock Stars. Titled Full Of It, the first single of the album “Go Home” was featured on Spin. Two months later the band premiered an official music video for the second single, “Full Of It”, on Stereogum. In April 2016, NPR premiered the single \"Simple Life\" from the forthcoming Full Of It album. Pitchfork gave the Full Of It album a 7.2, stating that it balanced “flame-belching Mad Max riffage with lyrics frankly exploring questions of codependence and need.” The band had their television debut on May 26, 2016 when they performed two songs on Last Call With Carson Daly. In May 2016, Summer Cannibals performed at the Sasquatch! Music Festival at The Gorge Amphitheatre. The music video for the single \"Say My Name\" was directed by Rob \"Whitey\" McConnaughy and was premiered on The Wall Street Journal.\\nOn March 28, 2023 Jessica Boudreaux announced the group had disbanded.\\n\\n',\n",
       "    'title': 'Summer Cannibals (band)'}]],\n",
       " 'distances': [[1.1856187582015991,\n",
       "   1.2131996154785156,\n",
       "   1.2180629968643188,\n",
       "   1.240976095199585,\n",
       "   1.2439578771591187]],\n",
       " 'included': [<IncludeEnum.distances: 'distances'>,\n",
       "  <IncludeEnum.documents: 'documents'>,\n",
       "  <IncludeEnum.metadatas: 'metadatas'>]}"
      ]
     },
     "execution_count": 26,
     "metadata": {},
     "output_type": "execute_result"
    }
   ],
   "source": [
    "collection.query(\n",
    "    query_texts=[\"Khurangbin\"],\n",
    "    n_results=5,\n",
    "    include=['documents', 'distances', 'metadatas']\n",
    ")"
   ]
  }
 ],
 "metadata": {
  "kernelspec": {
   "display_name": ".venv",
   "language": "python",
   "name": "python3"
  },
  "language_info": {
   "codemirror_mode": {
    "name": "ipython",
    "version": 3
   },
   "file_extension": ".py",
   "mimetype": "text/x-python",
   "name": "python",
   "nbconvert_exporter": "python",
   "pygments_lexer": "ipython3",
   "version": "3.12.3"
  }
 },
 "nbformat": 4,
 "nbformat_minor": 2
}

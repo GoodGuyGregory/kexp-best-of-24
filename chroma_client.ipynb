{
 "cells": [
  {
   "cell_type": "markdown",
   "metadata": {},
   "source": [
    "## Chroma Client \n",
    "\n",
    "[Create-Get-Delete](https://docs.trychroma.com/docs/collections/create-get-delete)"
   ]
  },
  {
   "cell_type": "code",
   "execution_count": 69,
   "metadata": {},
   "outputs": [
    {
     "name": "stdout",
     "output_type": "stream",
     "text": [
      "Requirement already satisfied: chromadb in ./.venv/lib/python3.12/site-packages (0.5.20)\n",
      "Requirement already satisfied: python-dotenv in ./.venv/lib/python3.12/site-packages (1.0.1)\n",
      "Requirement already satisfied: build>=1.0.3 in ./.venv/lib/python3.12/site-packages (from chromadb) (1.2.2.post1)\n",
      "Requirement already satisfied: pydantic>=1.9 in ./.venv/lib/python3.12/site-packages (from chromadb) (2.10.2)\n",
      "Requirement already satisfied: chroma-hnswlib==0.7.6 in ./.venv/lib/python3.12/site-packages (from chromadb) (0.7.6)\n",
      "Requirement already satisfied: fastapi>=0.95.2 in ./.venv/lib/python3.12/site-packages (from chromadb) (0.115.5)\n",
      "Requirement already satisfied: uvicorn>=0.18.3 in ./.venv/lib/python3.12/site-packages (from uvicorn[standard]>=0.18.3->chromadb) (0.32.1)\n",
      "Requirement already satisfied: numpy>=1.22.5 in ./.venv/lib/python3.12/site-packages (from chromadb) (1.26.4)\n",
      "Requirement already satisfied: posthog>=2.4.0 in ./.venv/lib/python3.12/site-packages (from chromadb) (3.7.4)\n",
      "Requirement already satisfied: typing-extensions>=4.5.0 in ./.venv/lib/python3.12/site-packages (from chromadb) (4.12.2)\n",
      "Requirement already satisfied: onnxruntime>=1.14.1 in ./.venv/lib/python3.12/site-packages (from chromadb) (1.20.1)\n",
      "Requirement already satisfied: opentelemetry-api>=1.2.0 in ./.venv/lib/python3.12/site-packages (from chromadb) (1.28.2)\n",
      "Requirement already satisfied: opentelemetry-exporter-otlp-proto-grpc>=1.2.0 in ./.venv/lib/python3.12/site-packages (from chromadb) (1.28.2)\n",
      "Requirement already satisfied: opentelemetry-instrumentation-fastapi>=0.41b0 in ./.venv/lib/python3.12/site-packages (from chromadb) (0.49b2)\n",
      "Requirement already satisfied: opentelemetry-sdk>=1.2.0 in ./.venv/lib/python3.12/site-packages (from chromadb) (1.28.2)\n",
      "Requirement already satisfied: tokenizers>=0.13.2 in ./.venv/lib/python3.12/site-packages (from chromadb) (0.21.0)\n",
      "Requirement already satisfied: pypika>=0.48.9 in ./.venv/lib/python3.12/site-packages (from chromadb) (0.48.9)\n",
      "Requirement already satisfied: tqdm>=4.65.0 in ./.venv/lib/python3.12/site-packages (from chromadb) (4.67.1)\n",
      "Requirement already satisfied: overrides>=7.3.1 in ./.venv/lib/python3.12/site-packages (from chromadb) (7.7.0)\n",
      "Requirement already satisfied: importlib-resources in ./.venv/lib/python3.12/site-packages (from chromadb) (6.4.5)\n",
      "Requirement already satisfied: grpcio>=1.58.0 in ./.venv/lib/python3.12/site-packages (from chromadb) (1.68.0)\n",
      "Requirement already satisfied: bcrypt>=4.0.1 in ./.venv/lib/python3.12/site-packages (from chromadb) (4.2.1)\n",
      "Requirement already satisfied: typer>=0.9.0 in ./.venv/lib/python3.12/site-packages (from chromadb) (0.14.0)\n",
      "Requirement already satisfied: kubernetes>=28.1.0 in ./.venv/lib/python3.12/site-packages (from chromadb) (31.0.0)\n",
      "Requirement already satisfied: tenacity>=8.2.3 in ./.venv/lib/python3.12/site-packages (from chromadb) (9.0.0)\n",
      "Requirement already satisfied: PyYAML>=6.0.0 in ./.venv/lib/python3.12/site-packages (from chromadb) (6.0.2)\n",
      "Requirement already satisfied: mmh3>=4.0.1 in ./.venv/lib/python3.12/site-packages (from chromadb) (5.0.1)\n",
      "Requirement already satisfied: orjson>=3.9.12 in ./.venv/lib/python3.12/site-packages (from chromadb) (3.10.12)\n",
      "Requirement already satisfied: httpx>=0.27.0 in ./.venv/lib/python3.12/site-packages (from chromadb) (0.28.0)\n",
      "Requirement already satisfied: rich>=10.11.0 in ./.venv/lib/python3.12/site-packages (from chromadb) (13.9.4)\n",
      "Requirement already satisfied: packaging>=19.1 in ./.venv/lib/python3.12/site-packages (from build>=1.0.3->chromadb) (24.2)\n",
      "Requirement already satisfied: pyproject_hooks in ./.venv/lib/python3.12/site-packages (from build>=1.0.3->chromadb) (1.2.0)\n",
      "Requirement already satisfied: starlette<0.42.0,>=0.40.0 in ./.venv/lib/python3.12/site-packages (from fastapi>=0.95.2->chromadb) (0.41.3)\n",
      "Requirement already satisfied: anyio in ./.venv/lib/python3.12/site-packages (from httpx>=0.27.0->chromadb) (4.6.2.post1)\n",
      "Requirement already satisfied: certifi in ./.venv/lib/python3.12/site-packages (from httpx>=0.27.0->chromadb) (2024.8.30)\n",
      "Requirement already satisfied: httpcore==1.* in ./.venv/lib/python3.12/site-packages (from httpx>=0.27.0->chromadb) (1.0.7)\n",
      "Requirement already satisfied: idna in ./.venv/lib/python3.12/site-packages (from httpx>=0.27.0->chromadb) (3.10)\n",
      "Requirement already satisfied: h11<0.15,>=0.13 in ./.venv/lib/python3.12/site-packages (from httpcore==1.*->httpx>=0.27.0->chromadb) (0.14.0)\n",
      "Requirement already satisfied: six>=1.9.0 in ./.venv/lib/python3.12/site-packages (from kubernetes>=28.1.0->chromadb) (1.16.0)\n",
      "Requirement already satisfied: python-dateutil>=2.5.3 in ./.venv/lib/python3.12/site-packages (from kubernetes>=28.1.0->chromadb) (2.9.0.post0)\n",
      "Requirement already satisfied: google-auth>=1.0.1 in ./.venv/lib/python3.12/site-packages (from kubernetes>=28.1.0->chromadb) (2.36.0)\n",
      "Requirement already satisfied: websocket-client!=0.40.0,!=0.41.*,!=0.42.*,>=0.32.0 in ./.venv/lib/python3.12/site-packages (from kubernetes>=28.1.0->chromadb) (1.8.0)\n",
      "Requirement already satisfied: requests in ./.venv/lib/python3.12/site-packages (from kubernetes>=28.1.0->chromadb) (2.32.3)\n",
      "Requirement already satisfied: requests-oauthlib in ./.venv/lib/python3.12/site-packages (from kubernetes>=28.1.0->chromadb) (2.0.0)\n",
      "Requirement already satisfied: oauthlib>=3.2.2 in ./.venv/lib/python3.12/site-packages (from kubernetes>=28.1.0->chromadb) (3.2.2)\n",
      "Requirement already satisfied: urllib3>=1.24.2 in ./.venv/lib/python3.12/site-packages (from kubernetes>=28.1.0->chromadb) (2.2.3)\n",
      "Requirement already satisfied: durationpy>=0.7 in ./.venv/lib/python3.12/site-packages (from kubernetes>=28.1.0->chromadb) (0.9)\n",
      "Requirement already satisfied: coloredlogs in ./.venv/lib/python3.12/site-packages (from onnxruntime>=1.14.1->chromadb) (15.0.1)\n",
      "Requirement already satisfied: flatbuffers in ./.venv/lib/python3.12/site-packages (from onnxruntime>=1.14.1->chromadb) (24.3.25)\n",
      "Requirement already satisfied: protobuf in ./.venv/lib/python3.12/site-packages (from onnxruntime>=1.14.1->chromadb) (5.29.0)\n",
      "Requirement already satisfied: sympy in ./.venv/lib/python3.12/site-packages (from onnxruntime>=1.14.1->chromadb) (1.13.3)\n",
      "Requirement already satisfied: deprecated>=1.2.6 in ./.venv/lib/python3.12/site-packages (from opentelemetry-api>=1.2.0->chromadb) (1.2.15)\n",
      "Requirement already satisfied: importlib-metadata<=8.5.0,>=6.0 in ./.venv/lib/python3.12/site-packages (from opentelemetry-api>=1.2.0->chromadb) (8.5.0)\n",
      "Requirement already satisfied: googleapis-common-protos~=1.52 in ./.venv/lib/python3.12/site-packages (from opentelemetry-exporter-otlp-proto-grpc>=1.2.0->chromadb) (1.66.0)\n",
      "Requirement already satisfied: opentelemetry-exporter-otlp-proto-common==1.28.2 in ./.venv/lib/python3.12/site-packages (from opentelemetry-exporter-otlp-proto-grpc>=1.2.0->chromadb) (1.28.2)\n",
      "Requirement already satisfied: opentelemetry-proto==1.28.2 in ./.venv/lib/python3.12/site-packages (from opentelemetry-exporter-otlp-proto-grpc>=1.2.0->chromadb) (1.28.2)\n",
      "Requirement already satisfied: opentelemetry-instrumentation-asgi==0.49b2 in ./.venv/lib/python3.12/site-packages (from opentelemetry-instrumentation-fastapi>=0.41b0->chromadb) (0.49b2)\n",
      "Requirement already satisfied: opentelemetry-instrumentation==0.49b2 in ./.venv/lib/python3.12/site-packages (from opentelemetry-instrumentation-fastapi>=0.41b0->chromadb) (0.49b2)\n",
      "Requirement already satisfied: opentelemetry-semantic-conventions==0.49b2 in ./.venv/lib/python3.12/site-packages (from opentelemetry-instrumentation-fastapi>=0.41b0->chromadb) (0.49b2)\n",
      "Requirement already satisfied: opentelemetry-util-http==0.49b2 in ./.venv/lib/python3.12/site-packages (from opentelemetry-instrumentation-fastapi>=0.41b0->chromadb) (0.49b2)\n",
      "Requirement already satisfied: wrapt<2.0.0,>=1.0.0 in ./.venv/lib/python3.12/site-packages (from opentelemetry-instrumentation==0.49b2->opentelemetry-instrumentation-fastapi>=0.41b0->chromadb) (1.17.0)\n",
      "Requirement already satisfied: asgiref~=3.0 in ./.venv/lib/python3.12/site-packages (from opentelemetry-instrumentation-asgi==0.49b2->opentelemetry-instrumentation-fastapi>=0.41b0->chromadb) (3.8.1)\n",
      "Requirement already satisfied: monotonic>=1.5 in ./.venv/lib/python3.12/site-packages (from posthog>=2.4.0->chromadb) (1.6)\n",
      "Requirement already satisfied: backoff>=1.10.0 in ./.venv/lib/python3.12/site-packages (from posthog>=2.4.0->chromadb) (2.2.1)\n",
      "Requirement already satisfied: annotated-types>=0.6.0 in ./.venv/lib/python3.12/site-packages (from pydantic>=1.9->chromadb) (0.7.0)\n",
      "Requirement already satisfied: pydantic-core==2.27.1 in ./.venv/lib/python3.12/site-packages (from pydantic>=1.9->chromadb) (2.27.1)\n",
      "Requirement already satisfied: markdown-it-py>=2.2.0 in ./.venv/lib/python3.12/site-packages (from rich>=10.11.0->chromadb) (3.0.0)\n",
      "Requirement already satisfied: pygments<3.0.0,>=2.13.0 in ./.venv/lib/python3.12/site-packages (from rich>=10.11.0->chromadb) (2.18.0)\n",
      "Requirement already satisfied: huggingface-hub<1.0,>=0.16.4 in ./.venv/lib/python3.12/site-packages (from tokenizers>=0.13.2->chromadb) (0.26.3)\n",
      "Requirement already satisfied: click>=8.0.0 in ./.venv/lib/python3.12/site-packages (from typer>=0.9.0->chromadb) (8.1.7)\n",
      "Requirement already satisfied: shellingham>=1.3.0 in ./.venv/lib/python3.12/site-packages (from typer>=0.9.0->chromadb) (1.5.4)\n",
      "Requirement already satisfied: httptools>=0.6.3 in ./.venv/lib/python3.12/site-packages (from uvicorn[standard]>=0.18.3->chromadb) (0.6.4)\n",
      "Requirement already satisfied: uvloop!=0.15.0,!=0.15.1,>=0.14.0 in ./.venv/lib/python3.12/site-packages (from uvicorn[standard]>=0.18.3->chromadb) (0.21.0)\n",
      "Requirement already satisfied: watchfiles>=0.13 in ./.venv/lib/python3.12/site-packages (from uvicorn[standard]>=0.18.3->chromadb) (1.0.0)\n",
      "Requirement already satisfied: websockets>=10.4 in ./.venv/lib/python3.12/site-packages (from uvicorn[standard]>=0.18.3->chromadb) (14.1)\n",
      "Requirement already satisfied: cachetools<6.0,>=2.0.0 in ./.venv/lib/python3.12/site-packages (from google-auth>=1.0.1->kubernetes>=28.1.0->chromadb) (5.5.0)\n",
      "Requirement already satisfied: pyasn1-modules>=0.2.1 in ./.venv/lib/python3.12/site-packages (from google-auth>=1.0.1->kubernetes>=28.1.0->chromadb) (0.4.1)\n",
      "Requirement already satisfied: rsa<5,>=3.1.4 in ./.venv/lib/python3.12/site-packages (from google-auth>=1.0.1->kubernetes>=28.1.0->chromadb) (4.9)\n",
      "Requirement already satisfied: filelock in ./.venv/lib/python3.12/site-packages (from huggingface-hub<1.0,>=0.16.4->tokenizers>=0.13.2->chromadb) (3.16.1)\n",
      "Requirement already satisfied: fsspec>=2023.5.0 in ./.venv/lib/python3.12/site-packages (from huggingface-hub<1.0,>=0.16.4->tokenizers>=0.13.2->chromadb) (2024.10.0)\n",
      "Requirement already satisfied: zipp>=3.20 in ./.venv/lib/python3.12/site-packages (from importlib-metadata<=8.5.0,>=6.0->opentelemetry-api>=1.2.0->chromadb) (3.21.0)\n",
      "Requirement already satisfied: mdurl~=0.1 in ./.venv/lib/python3.12/site-packages (from markdown-it-py>=2.2.0->rich>=10.11.0->chromadb) (0.1.2)\n",
      "Requirement already satisfied: charset-normalizer<4,>=2 in ./.venv/lib/python3.12/site-packages (from requests->kubernetes>=28.1.0->chromadb) (3.4.0)\n",
      "Requirement already satisfied: sniffio>=1.1 in ./.venv/lib/python3.12/site-packages (from anyio->httpx>=0.27.0->chromadb) (1.3.1)\n",
      "Requirement already satisfied: humanfriendly>=9.1 in ./.venv/lib/python3.12/site-packages (from coloredlogs->onnxruntime>=1.14.1->chromadb) (10.0)\n",
      "Requirement already satisfied: mpmath<1.4,>=1.1.0 in ./.venv/lib/python3.12/site-packages (from sympy->onnxruntime>=1.14.1->chromadb) (1.3.0)\n",
      "Requirement already satisfied: pyasn1<0.7.0,>=0.4.6 in ./.venv/lib/python3.12/site-packages (from pyasn1-modules>=0.2.1->google-auth>=1.0.1->kubernetes>=28.1.0->chromadb) (0.6.1)\n",
      "\n",
      "\u001b[1m[\u001b[0m\u001b[34;49mnotice\u001b[0m\u001b[1;39;49m]\u001b[0m\u001b[39;49m A new release of pip is available: \u001b[0m\u001b[31;49m24.0\u001b[0m\u001b[39;49m -> \u001b[0m\u001b[32;49m24.3.1\u001b[0m\n",
      "\u001b[1m[\u001b[0m\u001b[34;49mnotice\u001b[0m\u001b[1;39;49m]\u001b[0m\u001b[39;49m To update, run: \u001b[0m\u001b[32;49mpip install --upgrade pip\u001b[0m\n",
      "Note: you may need to restart the kernel to use updated packages.\n"
     ]
    }
   ],
   "source": [
    "pip install chromadb python-dotenv"
   ]
  },
  {
   "cell_type": "markdown",
   "metadata": {},
   "source": [
    "**Create a PersistentClient**"
   ]
  },
  {
   "cell_type": "code",
   "execution_count": 70,
   "metadata": {},
   "outputs": [],
   "source": [
    "import chromadb\n",
    "\n",
    "# create a client that will load our existing chromadb\n",
    "client = chromadb.PersistentClient(path=\"chroma_db/\")\n"
   ]
  },
  {
   "cell_type": "markdown",
   "metadata": {},
   "source": [
    "**Check Our Connection**"
   ]
  },
  {
   "cell_type": "code",
   "execution_count": 71,
   "metadata": {},
   "outputs": [
    {
     "data": {
      "text/plain": [
       "1735528218037778000"
      ]
     },
     "execution_count": 71,
     "metadata": {},
     "output_type": "execute_result"
    }
   ],
   "source": [
    "client.heartbeat()"
   ]
  },
  {
   "cell_type": "markdown",
   "metadata": {},
   "source": [
    "**Getting Our Data Metrics**"
   ]
  },
  {
   "cell_type": "code",
   "execution_count": 72,
   "metadata": {},
   "outputs": [],
   "source": [
    "from dotenv import load_dotenv\n",
    "import os\n",
    "\n",
    "load_dotenv()\n",
    "\n",
    "# loads the .env file with LLM API Keys\n",
    "load_dotenv()\n",
    "\n",
    "# sets API access keys\n",
    "OPEN_AI_API_KEY = os.getenv(\"OPEN_AI_API_KEY\")\n",
    "\n",
    "if not OPEN_AI_API_KEY:\n",
    "    raise ValueError(\"OPEN_AI_API_KEY not found, please add your API key in a .env\")\n",
    "    "
   ]
  },
  {
   "cell_type": "markdown",
   "metadata": {},
   "source": [
    "**Create Embedding Function**\n",
    "\n",
    "[Emedding Functions](https://docs.trychroma.com/integrations/embedding-models/openai) tell Chroma what type of embedding to look for when making queries to the Chroma client"
   ]
  },
  {
   "cell_type": "code",
   "execution_count": 73,
   "metadata": {},
   "outputs": [],
   "source": [
    "# get openai embedding function\n",
    "import chromadb.utils.embedding_functions as embedding_functions\n",
    "\n",
    "# create embedding_function object\n",
    "openai_ef = embedding_functions.OpenAIEmbeddingFunction(\n",
    "                api_key=OPEN_AI_API_KEY,\n",
    "                model_name=\"text-embedding-3-small\"\n",
    "            )\n"
   ]
  },
  {
   "cell_type": "markdown",
   "metadata": {},
   "source": [
    "**Get Collection Details**\n",
    "\n",
    "[Create and Get and Delete](https://docs.trychroma.com/docs/collections/create-get-delete) processing the collection for the standard `CRUD` operations requires a `collection` primitive.\n",
    "\n",
    "\n",
    "```python\n",
    "# create the collection if it doesn't exist\n",
    "collection = client.create_collection(name=\"my_collection\", embedding_function=emb_fn)\n",
    "\n",
    "# get's a collection if it exists\n",
    "collection = client.get_collection(name=\"my_collection\", embedding_function=emb_fn)\n",
    "```\n",
    "\n"
   ]
  },
  {
   "cell_type": "code",
   "execution_count": 74,
   "metadata": {},
   "outputs": [
    {
     "data": {
      "text/plain": [
       "{'ids': ['4c90c3e2-4acd-4b5d-a37b-2dee221875e2',\n",
       "  '0fad0c70-7340-407e-9f00-0e53170a8e48',\n",
       "  'd7b2ee45-313c-4000-b19c-5119cca18025',\n",
       "  'a3e634d8-ec70-4c7c-b141-3779a02b22c2',\n",
       "  'c3f24a92-0de3-4c10-9245-709df95d75eb',\n",
       "  'f7ac6af4-3bfc-4770-95c3-03b364ce2bd5',\n",
       "  '89e5b1e7-2b15-452b-b503-80c973d1df40',\n",
       "  '0ee7053c-ba36-493e-a586-740693b6d120',\n",
       "  'be597368-5c4e-4dc4-96ee-1ff705893542',\n",
       "  '7ac7c9c2-c120-40c5-bb1b-eb44fa18b5df'],\n",
       " 'embeddings': array([[-1.60320718e-02, -5.72213493e-02,  3.75896972e-03, ...,\n",
       "         -2.57682018e-02,  4.63562012e-02, -1.74533091e-02],\n",
       "        [-1.52583746e-02,  2.94168349e-02,  7.39516318e-03, ...,\n",
       "          1.51413623e-02,  1.63465869e-02, -5.04556075e-02],\n",
       "        [ 3.74108693e-03,  3.49985845e-02, -3.90326865e-02, ...,\n",
       "         -4.49202992e-02,  2.66577993e-02,  5.14825340e-03],\n",
       "        ...,\n",
       "        [ 8.28020554e-03, -2.33449154e-02, -2.96986569e-02, ...,\n",
       "          6.77739881e-05,  1.68356206e-02,  9.78787336e-03],\n",
       "        [ 5.62553070e-02, -4.07588333e-02, -3.99469994e-02, ...,\n",
       "          1.63680017e-02,  3.50282416e-02,  2.36028749e-02],\n",
       "        [ 3.01975906e-02,  3.20588686e-02,  3.07431370e-02, ...,\n",
       "         -1.76018905e-02,  9.39462800e-03, -2.67638583e-02]]),\n",
       " 'documents': [\"Vote for KEXP's Best of 2024\",\n",
       "  'Menu',\n",
       "  'Listen\\nWatch\\nRead',\n",
       "  'Events\\nVisit KEXP\\nDonor Lounge\\nPlaylist\\nDonate',\n",
       "  'Menu',\n",
       "  '\\n0 seconds of 0 secondsVolume 100%Press shift question mark to access a list of keyboard shortcutsKeyboard ShortcutsEnabledDisabledShortcuts Open/Close/ or ?Play/PauseSPACEIncrease Volume↑Decrease Volume↓Seek Forward→Seek Backward←Captions On/OffcFullscreen/Exit FullscreenfMute/UnmutemDecrease Caption Size-Increase Caption Size+ or =Seek %0-9',\n",
       "  'Live00:0000:0000:00\\xa0\\n\\nListen Live',\n",
       "  'Now Playing\\nEl Sonido with Albina Cabrera',\n",
       "  'Barbacius – Prefiero Dejarlo Asi',\n",
       "  'Close\\n      \\n\\n\\n\\n\\n\\n\\n\\n\\n\\n \\n\\n\\n\\nSearch'],\n",
       " 'uris': None,\n",
       " 'data': None,\n",
       " 'metadatas': [{'source': \"./Vote for KEXP's Best of 2024.html\",\n",
       "   'title': \"\\n        \\n        \\n        Vote for KEXP's Best of 2024\\n        \\n    \"},\n",
       "  {'source': \"./Vote for KEXP's Best of 2024.html\",\n",
       "   'title': \"\\n        \\n        \\n        Vote for KEXP's Best of 2024\\n        \\n    \"},\n",
       "  {'source': \"./Vote for KEXP's Best of 2024.html\",\n",
       "   'title': \"\\n        \\n        \\n        Vote for KEXP's Best of 2024\\n        \\n    \"},\n",
       "  {'source': \"./Vote for KEXP's Best of 2024.html\",\n",
       "   'title': \"\\n        \\n        \\n        Vote for KEXP's Best of 2024\\n        \\n    \"},\n",
       "  {'source': \"./Vote for KEXP's Best of 2024.html\",\n",
       "   'title': \"\\n        \\n        \\n        Vote for KEXP's Best of 2024\\n        \\n    \"},\n",
       "  {'source': \"./Vote for KEXP's Best of 2024.html\",\n",
       "   'title': \"\\n        \\n        \\n        Vote for KEXP's Best of 2024\\n        \\n    \"},\n",
       "  {'source': \"./Vote for KEXP's Best of 2024.html\",\n",
       "   'title': \"\\n        \\n        \\n        Vote for KEXP's Best of 2024\\n        \\n    \"},\n",
       "  {'source': \"./Vote for KEXP's Best of 2024.html\",\n",
       "   'title': \"\\n        \\n        \\n        Vote for KEXP's Best of 2024\\n        \\n    \"},\n",
       "  {'source': \"./Vote for KEXP's Best of 2024.html\",\n",
       "   'title': \"\\n        \\n        \\n        Vote for KEXP's Best of 2024\\n        \\n    \"},\n",
       "  {'source': \"./Vote for KEXP's Best of 2024.html\",\n",
       "   'title': \"\\n        \\n        \\n        Vote for KEXP's Best of 2024\\n        \\n    \"}],\n",
       " 'included': [<IncludeEnum.embeddings: 'embeddings'>,\n",
       "  <IncludeEnum.documents: 'documents'>,\n",
       "  <IncludeEnum.metadatas: 'metadatas'>]}"
      ]
     },
     "execution_count": 74,
     "metadata": {},
     "output_type": "execute_result"
    }
   ],
   "source": [
    "# search for the KEXP collection\n",
    "collection = client.get_collection(name=\"KEXP-24-Embeddings\", embedding_function=openai_ef)\n",
    "\n",
    "\n",
    "# look at the last item of the data base \n",
    "collection.peek() \n",
    "\n"
   ]
  },
  {
   "cell_type": "code",
   "execution_count": 75,
   "metadata": {},
   "outputs": [
    {
     "name": "stdout",
     "output_type": "stream",
     "text": [
      "objects within the collection: 43292\n"
     ]
    }
   ],
   "source": [
    "# looks at a count\n",
    "print(\"objects within the collection: \" + str(collection.count() ))"
   ]
  },
  {
   "cell_type": "markdown",
   "metadata": {},
   "source": [
    "**Querying the Database**\n",
    "\n",
    "[Query and Get](https://docs.trychroma.com/docs/querying-collections/query-and-get) the objects can be queried. You can also query by a set of `query texts`. Chroma will first embed each query text with the collection's embedding function, and then perform the query with the generated embedding.\n",
    "\n",
    "\n",
    "\n",
    "```python\n",
    "collection.query(\n",
    "    query_texts=[\"Nice Biscuit\"],\n",
    "    n_results=5,\n",
    "    include=['documents', 'distances', 'metadatas']\n",
    ")\n",
    "```"
   ]
  },
  {
   "cell_type": "code",
   "execution_count": null,
   "metadata": {},
   "outputs": [
    {
     "data": {
      "text/plain": [
       "{'ids': [['570e533f-7199-4665-8220-ffdbcbdde6ec',\n",
       "   'f1459697-a2b9-4bde-9ccd-cc64a97f0339',\n",
       "   '4974ef75-1dd7-4191-a2dc-891fd84e39f0',\n",
       "   '4c9f0ed4-1624-403e-bdf2-8375309b2d0f',\n",
       "   '87eecccf-9d61-421e-bf31-99c10378bf95',\n",
       "   '83979996-1885-4450-86ac-127ceaaf8623',\n",
       "   '4f58700b-8bcf-4a94-b13a-f8647b2f91c7',\n",
       "   '9ee75072-1925-439e-8aa8-f750e6f4c328',\n",
       "   'b8aafe0e-be90-4fa3-a9b8-2f7a672f48a4',\n",
       "   '8cbf2682-676c-43be-8119-a42f497df876',\n",
       "   'b2780936-7084-4085-bae3-77b1c9e19348',\n",
       "   '3e18a12d-700b-4cd3-ab01-0d9a661a043b',\n",
       "   '0f6561ee-1813-44c1-97e8-018a4319e634',\n",
       "   'c18a2851-8b0d-4506-836f-148bc9511a42',\n",
       "   'b7ffad3e-3bc3-45d2-984c-df1c7ba4e74b']],\n",
       " 'embeddings': None,\n",
       " 'documents': [['Willie Nelson - The Border',\n",
       "   'Willie Nelson - Last Leaf on the Tree',\n",
       "   'Dylan, and Lucinda Williams',\n",
       "   'Gary Lee Clark Jr',\n",
       "   'A Country Western - Life On the Lawn',\n",
       "   'Orville Peck - Stampede',\n",
       "   'Carsick Cars - Aha\\n\\n Johnny Cash - Songwriter',\n",
       "   'Justin Vernon',\n",
       "   'Folk: featured Ellen McIlwaine, Don McLean, Myles and Lenny and David Wiffen',\n",
       "   'on the television series Nashville, and is performed by Connie Britton and Charles Esten',\n",
       "   '. J. Cale songs',\n",
       "   \"Wilson's Laurel Canyon home\",\n",
       "   'siblings, Reba, Joanne, and Tommy (who also became a successful country artist)',\n",
       "   'Fantastic Negrito - Son of a Broken Man',\n",
       "   'Jimmy \"Diamond\" Williams, Clarence \"Chet\" Willis, and Robert \"Rumba\" Jones are still performing']],\n",
       " 'uris': None,\n",
       " 'data': None,\n",
       " 'metadatas': [[{'source': \"./Vote for KEXP's Best of 2024.html\",\n",
       "    'title': \"\\n        \\n        \\n        Vote for KEXP's Best of 2024\\n        \\n    \"},\n",
       "   {'source': \"./Vote for KEXP's Best of 2024.html\",\n",
       "    'title': \"\\n        \\n        \\n        Vote for KEXP's Best of 2024\\n        \\n    \"},\n",
       "   {'source': 'https://en.wikipedia.org/wiki/Grace_Cummings',\n",
       "    'summary': 'Grace Cummings is an Australian singer-songwriter and stage actor from Melbourne. She has released three studio albums: Refuge Cove (2019), Storm Queen (2022), and Ramona (2024). She is known for her unique singing voice, which has been described as \"commanding and magnetic\", powerful, and as having a \"devastating force\". Cummings\\' musical influences include Irish folk music, Townes Van Zandt, Bob Dylan, and Lucinda Williams. \\n\\n',\n",
       "    'title': 'Grace Cummings'},\n",
       "   {'source': 'https://en.wikipedia.org/wiki/Gary_Clark_Jr.',\n",
       "    'summary': 'Gary Lee Clark Jr. (born February 15, 1984) is an American guitarist and singer who fuses blues, rock and soul music with elements of hip hop. In 2011, Clark signed with Warner Bros Records and released The Bright Lights EP. It was followed by the albums Blak and Blu (2012) and The Story of Sonny Boy Slim (2015). Throughout his career, Clark has been a prolific live performer, documented by Gary Clark Jr. Live (2014) and Gary Clark Jr Live/North America (2017).\\nIn 2014, Clark was awarded a Grammy for Best Traditional R&B performance for the song \"Please Come Home\". In 2020, he won the Grammy Award for \"Best Rock Song\" and \"Best Rock Performance\" for the song \"This Land\" from that album. His most recent album, JPEG Raw, was released in 2024.',\n",
       "    'title': 'Gary Clark Jr.'},\n",
       "   {'source': \"./Vote for KEXP's Best of 2024.html\",\n",
       "    'title': \"\\n        \\n        \\n        Vote for KEXP's Best of 2024\\n        \\n    \"},\n",
       "   {'source': \"./Vote for KEXP's Best of 2024.html\",\n",
       "    'title': \"\\n        \\n        \\n        Vote for KEXP's Best of 2024\\n        \\n    \"},\n",
       "   {'source': \"./Vote for KEXP's Best of 2024.html\",\n",
       "    'title': \"\\n        \\n        \\n        Vote for KEXP's Best of 2024\\n        \\n    \"},\n",
       "   {'source': 'https://en.wikipedia.org/wiki/Bon_Iver',\n",
       "    'summary': 'Bon Iver ( BONE ee-VAIR) is an American indie folk band founded in 2006 by singer-songwriter Justin Vernon. Vernon had originally formed Bon Iver as a solo project, but it eventually became a band consisting of Vernon (vocals, guitar), Sean Carey (drums, keyboards, vocals), Michael Lewis (vocals, baritone guitar, guitar, violin, saxophone), Matthew McCaughan (drums, bass, vocals), Andrew Fitzpatrick (guitar, keyboards, vocals), and Jenn Wasner (guitar, keyboards, vocals)\\nVernon released Bon Iver\\'s debut album, For Emma, Forever Ago, independently in July 2007. The majority of the album was recorded while Vernon spent three months isolated in a cabin in western Wisconsin. In 2012, the band won the Grammy Award for Best Alternative Music Album for their eponymous album Bon Iver. They released their third album 22, A Million to critical acclaim in 2016. Their latest album, I, I, was released in 2019. The album was nominated at the 2020 Grammy Awards for Album of the Year.\\nThe name \"Bon Iver\" derives from the French phrase bon hiver (pronounced [bɔn‿ivɛʁ]; \\'good winter\\'), taken from a greeting on 1990s TV series Northern Exposure.',\n",
       "    'title': 'Bon Iver'},\n",
       "   {'source': 'https://en.wikipedia.org/wiki/Sounds_Good',\n",
       "    'summary': 'Sounds Good is a Canadian music television miniseries which aired on CBC Television in 1976.',\n",
       "    'title': 'Sounds Good'},\n",
       "   {'source': 'https://en.wikipedia.org/wiki/Madi_Diaz',\n",
       "    'summary': 'Madi Diaz (born May 14, 1986) is an American singer-songwriter and musician.\\n\\n',\n",
       "    'title': 'Madi Diaz'},\n",
       "   {'source': 'https://en.wikipedia.org/wiki/Acid_Tongue',\n",
       "    'summary': \"Acid Tongue is the debut solo album, second overall  by American singer-songwriter Jenny Lewis, released in September 2008 through Warner Bros. and Rough Trade Records. Inspired by jam sessions, the album was recorded December 2007-March 2008 in Van Nuys, California with the intent of capturing a more live feeling than 2006's Rabbit Fur Coat. Lewis worked with a number of guest musicians and wrote the album with boyfriend Johnathan Rice. Lewis, Rice, Jason Lader, and Dave Scher produced the album. Acid Tongue features musical styles ranging from indie rock to alternative country and Americana.\\nAcid Tongue was released to generally favorable reviews from contemporary music critics, receiving praise for Lewis' lyrics and vocals. However, some reviewers criticized the numerous collaborations and felt the sound overwhelmed Lewis. The album charted at number twenty-two in the United States and number fifty-five in the United Kingdom.\",\n",
       "    'title': 'Acid Tongue'},\n",
       "   {'source': 'https://en.wikipedia.org/wiki/Acid_Tongue',\n",
       "    'summary': \"Acid Tongue is the debut solo album, second overall  by American singer-songwriter Jenny Lewis, released in September 2008 through Warner Bros. and Rough Trade Records. Inspired by jam sessions, the album was recorded December 2007-March 2008 in Van Nuys, California with the intent of capturing a more live feeling than 2006's Rabbit Fur Coat. Lewis worked with a number of guest musicians and wrote the album with boyfriend Johnathan Rice. Lewis, Rice, Jason Lader, and Dave Scher produced the album. Acid Tongue features musical styles ranging from indie rock to alternative country and Americana.\\nAcid Tongue was released to generally favorable reviews from contemporary music critics, receiving praise for Lewis' lyrics and vocals. However, some reviewers criticized the numerous collaborations and felt the sound overwhelmed Lewis. The album charted at number twenty-two in the United States and number fifty-five in the United Kingdom.\",\n",
       "    'title': 'Acid Tongue'},\n",
       "   {'source': 'https://en.wikipedia.org/wiki/Johnny_Cash',\n",
       "    'summary': 'John R. Cash (born J. R. Cash; February 26, 1932 – September 12, 2003) was an American singer-songwriter. Most of Cash\\'s music contains themes of sorrow, moral tribulation, and redemption, especially songs from the later stages of his career. He was known for his deep, calm, bass-baritone voice, the distinctive sound of his backing band, the Tennessee Three, that was characterized by its train-like chugging guitar rhythms, a rebelliousness coupled with an increasingly somber and humble demeanor, and his free prison concerts. Cash wore a trademark all-black stage wardrobe, which earned him the nickname \"Man in Black\".\\nBorn to poor cotton farmers in Kingsland, Arkansas, Cash grew up on gospel music and played on a local radio station in high school. He served four years in the Air Force, much of it in West Germany. After his return to the United States, he rose to fame during the mid-1950s in the burgeoning rockabilly scene in Memphis, Tennessee. He traditionally began his concerts by introducing himself with \"Hello, I\\'m Johnny Cash\". He began to follow that by \"Folsom Prison Blues\", one of his signature songs. His other signature songs include \"I Walk the Line\", \"Ring of Fire\", \"Get Rhythm\", and \"Man in Black\". He also recorded humorous numbers like \"One Piece at a Time\" and \"A Boy Named Sue\", a duet with his future wife June called \"Jackson\" (followed by many further duets after they married), and railroad songs such as \"Hey, Porter\", \"Orange Blossom Special\", and \"Rock Island Line\". During the last stage of his career, he covered songs by contemporary rock artists; among his most notable covers were \"Hurt\" by Nine Inch Nails, \"Rusty Cage\" by Soundgarden, and \"Personal Jesus\" by Depeche Mode.\\nCash is one of the best-selling music artists of all time, having sold more than 90 million records worldwide. His genre-spanning music embraced country, rock and roll, rockabilly, blues, folk, and gospel sounds. This crossover appeal earned him the rare honor of being inducted into the Country Music, Rock and Roll, and Gospel Music Halls of Fame.',\n",
       "    'title': 'Johnny Cash'},\n",
       "   {'source': \"./Vote for KEXP's Best of 2024.html\",\n",
       "    'title': \"\\n        \\n        \\n        Vote for KEXP's Best of 2024\\n        \\n    \"},\n",
       "   {'source': 'https://en.wikipedia.org/wiki/Ohio_Players',\n",
       "    'summary': 'Ohio Players are an American funk band, most popular in the 1970s. They are best known for their songs \"Fire\" and \"Love Rollercoaster\", and for their erotic album covers that featured nude or nearly nude women. Many of the women were models featured in Playboy.\\nThe singles \"Funky Worm\", \"Skin Tight\", \"Fire\", and \"Love Rollercoaster\", and their albums Skin Tight, Fire, and Honey, were awarded Gold certification.\\nOn August 17, 2013, Ohio Players were inducted into the inaugural class of the Rhythm and Blues Music Hall of Fame that took place at Cleveland State University in Cleveland, Ohio.',\n",
       "    'title': 'Ohio Players'}]],\n",
       " 'distances': [[0.5571578145027161,\n",
       "   0.5989083051681519,\n",
       "   1.1139987707138062,\n",
       "   1.1766728162765503,\n",
       "   1.2157763242721558,\n",
       "   1.2399897575378418,\n",
       "   1.2431784868240356,\n",
       "   1.2484742403030396,\n",
       "   1.2548820972442627,\n",
       "   1.2884660959243774,\n",
       "   1.2924107313156128,\n",
       "   1.2963218688964844,\n",
       "   1.2989624738693237,\n",
       "   1.3043334484100342,\n",
       "   1.3071261644363403]],\n",
       " 'included': [<IncludeEnum.distances: 'distances'>,\n",
       "  <IncludeEnum.documents: 'documents'>,\n",
       "  <IncludeEnum.metadatas: 'metadatas'>]}"
      ]
     },
     "execution_count": 77,
     "metadata": {},
     "output_type": "execute_result"
    }
   ],
   "source": [
    "collection.query(\n",
    "    query_texts=[\"Willie\"],\n",
    "    n_results=15,\n",
    "    include=['documents', 'distances', 'metadatas']\n",
    ")"
   ]
  }
 ],
 "metadata": {
  "kernelspec": {
   "display_name": ".venv",
   "language": "python",
   "name": "python3"
  },
  "language_info": {
   "codemirror_mode": {
    "name": "ipython",
    "version": 3
   },
   "file_extension": ".py",
   "mimetype": "text/x-python",
   "name": "python",
   "nbconvert_exporter": "python",
   "pygments_lexer": "ipython3",
   "version": "3.12.3"
  }
 },
 "nbformat": 4,
 "nbformat_minor": 2
}

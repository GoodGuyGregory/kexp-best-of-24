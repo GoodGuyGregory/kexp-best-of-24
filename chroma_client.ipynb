{
 "cells": [
  {
   "cell_type": "markdown",
   "metadata": {},
   "source": [
    "## Chroma Client \n",
    "\n",
    "[Create-Get-Delete](https://docs.trychroma.com/docs/collections/create-get-delete)"
   ]
  },
  {
   "cell_type": "code",
   "execution_count": 88,
   "metadata": {},
   "outputs": [
    {
     "name": "stdout",
     "output_type": "stream",
     "text": [
      "Requirement already satisfied: chromadb in ./.venv/lib/python3.12/site-packages (0.5.20)\n",
      "Requirement already satisfied: python-dotenv in ./.venv/lib/python3.12/site-packages (1.0.1)\n",
      "Requirement already satisfied: build>=1.0.3 in ./.venv/lib/python3.12/site-packages (from chromadb) (1.2.2.post1)\n",
      "Requirement already satisfied: pydantic>=1.9 in ./.venv/lib/python3.12/site-packages (from chromadb) (2.10.2)\n",
      "Requirement already satisfied: chroma-hnswlib==0.7.6 in ./.venv/lib/python3.12/site-packages (from chromadb) (0.7.6)\n",
      "Requirement already satisfied: fastapi>=0.95.2 in ./.venv/lib/python3.12/site-packages (from chromadb) (0.115.5)\n",
      "Requirement already satisfied: uvicorn>=0.18.3 in ./.venv/lib/python3.12/site-packages (from uvicorn[standard]>=0.18.3->chromadb) (0.32.1)\n",
      "Requirement already satisfied: numpy>=1.22.5 in ./.venv/lib/python3.12/site-packages (from chromadb) (1.26.4)\n",
      "Requirement already satisfied: posthog>=2.4.0 in ./.venv/lib/python3.12/site-packages (from chromadb) (3.7.4)\n",
      "Requirement already satisfied: typing-extensions>=4.5.0 in ./.venv/lib/python3.12/site-packages (from chromadb) (4.12.2)\n",
      "Requirement already satisfied: onnxruntime>=1.14.1 in ./.venv/lib/python3.12/site-packages (from chromadb) (1.20.1)\n",
      "Requirement already satisfied: opentelemetry-api>=1.2.0 in ./.venv/lib/python3.12/site-packages (from chromadb) (1.28.2)\n",
      "Requirement already satisfied: opentelemetry-exporter-otlp-proto-grpc>=1.2.0 in ./.venv/lib/python3.12/site-packages (from chromadb) (1.28.2)\n",
      "Requirement already satisfied: opentelemetry-instrumentation-fastapi>=0.41b0 in ./.venv/lib/python3.12/site-packages (from chromadb) (0.49b2)\n",
      "Requirement already satisfied: opentelemetry-sdk>=1.2.0 in ./.venv/lib/python3.12/site-packages (from chromadb) (1.28.2)\n",
      "Requirement already satisfied: tokenizers>=0.13.2 in ./.venv/lib/python3.12/site-packages (from chromadb) (0.21.0)\n",
      "Requirement already satisfied: pypika>=0.48.9 in ./.venv/lib/python3.12/site-packages (from chromadb) (0.48.9)\n",
      "Requirement already satisfied: tqdm>=4.65.0 in ./.venv/lib/python3.12/site-packages (from chromadb) (4.67.1)\n",
      "Requirement already satisfied: overrides>=7.3.1 in ./.venv/lib/python3.12/site-packages (from chromadb) (7.7.0)\n",
      "Requirement already satisfied: importlib-resources in ./.venv/lib/python3.12/site-packages (from chromadb) (6.4.5)\n",
      "Requirement already satisfied: grpcio>=1.58.0 in ./.venv/lib/python3.12/site-packages (from chromadb) (1.68.0)\n",
      "Requirement already satisfied: bcrypt>=4.0.1 in ./.venv/lib/python3.12/site-packages (from chromadb) (4.2.1)\n",
      "Requirement already satisfied: typer>=0.9.0 in ./.venv/lib/python3.12/site-packages (from chromadb) (0.14.0)\n",
      "Requirement already satisfied: kubernetes>=28.1.0 in ./.venv/lib/python3.12/site-packages (from chromadb) (31.0.0)\n",
      "Requirement already satisfied: tenacity>=8.2.3 in ./.venv/lib/python3.12/site-packages (from chromadb) (9.0.0)\n",
      "Requirement already satisfied: PyYAML>=6.0.0 in ./.venv/lib/python3.12/site-packages (from chromadb) (6.0.2)\n",
      "Requirement already satisfied: mmh3>=4.0.1 in ./.venv/lib/python3.12/site-packages (from chromadb) (5.0.1)\n",
      "Requirement already satisfied: orjson>=3.9.12 in ./.venv/lib/python3.12/site-packages (from chromadb) (3.10.12)\n",
      "Requirement already satisfied: httpx>=0.27.0 in ./.venv/lib/python3.12/site-packages (from chromadb) (0.28.0)\n",
      "Requirement already satisfied: rich>=10.11.0 in ./.venv/lib/python3.12/site-packages (from chromadb) (13.9.4)\n",
      "Requirement already satisfied: packaging>=19.1 in ./.venv/lib/python3.12/site-packages (from build>=1.0.3->chromadb) (24.2)\n",
      "Requirement already satisfied: pyproject_hooks in ./.venv/lib/python3.12/site-packages (from build>=1.0.3->chromadb) (1.2.0)\n",
      "Requirement already satisfied: starlette<0.42.0,>=0.40.0 in ./.venv/lib/python3.12/site-packages (from fastapi>=0.95.2->chromadb) (0.41.3)\n",
      "Requirement already satisfied: anyio in ./.venv/lib/python3.12/site-packages (from httpx>=0.27.0->chromadb) (4.6.2.post1)\n",
      "Requirement already satisfied: certifi in ./.venv/lib/python3.12/site-packages (from httpx>=0.27.0->chromadb) (2024.8.30)\n",
      "Requirement already satisfied: httpcore==1.* in ./.venv/lib/python3.12/site-packages (from httpx>=0.27.0->chromadb) (1.0.7)\n",
      "Requirement already satisfied: idna in ./.venv/lib/python3.12/site-packages (from httpx>=0.27.0->chromadb) (3.10)\n",
      "Requirement already satisfied: h11<0.15,>=0.13 in ./.venv/lib/python3.12/site-packages (from httpcore==1.*->httpx>=0.27.0->chromadb) (0.14.0)\n",
      "Requirement already satisfied: six>=1.9.0 in ./.venv/lib/python3.12/site-packages (from kubernetes>=28.1.0->chromadb) (1.16.0)\n",
      "Requirement already satisfied: python-dateutil>=2.5.3 in ./.venv/lib/python3.12/site-packages (from kubernetes>=28.1.0->chromadb) (2.9.0.post0)\n",
      "Requirement already satisfied: google-auth>=1.0.1 in ./.venv/lib/python3.12/site-packages (from kubernetes>=28.1.0->chromadb) (2.36.0)\n",
      "Requirement already satisfied: websocket-client!=0.40.0,!=0.41.*,!=0.42.*,>=0.32.0 in ./.venv/lib/python3.12/site-packages (from kubernetes>=28.1.0->chromadb) (1.8.0)\n",
      "Requirement already satisfied: requests in ./.venv/lib/python3.12/site-packages (from kubernetes>=28.1.0->chromadb) (2.32.3)\n",
      "Requirement already satisfied: requests-oauthlib in ./.venv/lib/python3.12/site-packages (from kubernetes>=28.1.0->chromadb) (2.0.0)\n",
      "Requirement already satisfied: oauthlib>=3.2.2 in ./.venv/lib/python3.12/site-packages (from kubernetes>=28.1.0->chromadb) (3.2.2)\n",
      "Requirement already satisfied: urllib3>=1.24.2 in ./.venv/lib/python3.12/site-packages (from kubernetes>=28.1.0->chromadb) (2.2.3)\n",
      "Requirement already satisfied: durationpy>=0.7 in ./.venv/lib/python3.12/site-packages (from kubernetes>=28.1.0->chromadb) (0.9)\n",
      "Requirement already satisfied: coloredlogs in ./.venv/lib/python3.12/site-packages (from onnxruntime>=1.14.1->chromadb) (15.0.1)\n",
      "Requirement already satisfied: flatbuffers in ./.venv/lib/python3.12/site-packages (from onnxruntime>=1.14.1->chromadb) (24.3.25)\n",
      "Requirement already satisfied: protobuf in ./.venv/lib/python3.12/site-packages (from onnxruntime>=1.14.1->chromadb) (5.29.0)\n",
      "Requirement already satisfied: sympy in ./.venv/lib/python3.12/site-packages (from onnxruntime>=1.14.1->chromadb) (1.13.3)\n",
      "Requirement already satisfied: deprecated>=1.2.6 in ./.venv/lib/python3.12/site-packages (from opentelemetry-api>=1.2.0->chromadb) (1.2.15)\n",
      "Requirement already satisfied: importlib-metadata<=8.5.0,>=6.0 in ./.venv/lib/python3.12/site-packages (from opentelemetry-api>=1.2.0->chromadb) (8.5.0)\n",
      "Requirement already satisfied: googleapis-common-protos~=1.52 in ./.venv/lib/python3.12/site-packages (from opentelemetry-exporter-otlp-proto-grpc>=1.2.0->chromadb) (1.66.0)\n",
      "Requirement already satisfied: opentelemetry-exporter-otlp-proto-common==1.28.2 in ./.venv/lib/python3.12/site-packages (from opentelemetry-exporter-otlp-proto-grpc>=1.2.0->chromadb) (1.28.2)\n",
      "Requirement already satisfied: opentelemetry-proto==1.28.2 in ./.venv/lib/python3.12/site-packages (from opentelemetry-exporter-otlp-proto-grpc>=1.2.0->chromadb) (1.28.2)\n",
      "Requirement already satisfied: opentelemetry-instrumentation-asgi==0.49b2 in ./.venv/lib/python3.12/site-packages (from opentelemetry-instrumentation-fastapi>=0.41b0->chromadb) (0.49b2)\n",
      "Requirement already satisfied: opentelemetry-instrumentation==0.49b2 in ./.venv/lib/python3.12/site-packages (from opentelemetry-instrumentation-fastapi>=0.41b0->chromadb) (0.49b2)\n",
      "Requirement already satisfied: opentelemetry-semantic-conventions==0.49b2 in ./.venv/lib/python3.12/site-packages (from opentelemetry-instrumentation-fastapi>=0.41b0->chromadb) (0.49b2)\n",
      "Requirement already satisfied: opentelemetry-util-http==0.49b2 in ./.venv/lib/python3.12/site-packages (from opentelemetry-instrumentation-fastapi>=0.41b0->chromadb) (0.49b2)\n",
      "Requirement already satisfied: wrapt<2.0.0,>=1.0.0 in ./.venv/lib/python3.12/site-packages (from opentelemetry-instrumentation==0.49b2->opentelemetry-instrumentation-fastapi>=0.41b0->chromadb) (1.17.0)\n",
      "Requirement already satisfied: asgiref~=3.0 in ./.venv/lib/python3.12/site-packages (from opentelemetry-instrumentation-asgi==0.49b2->opentelemetry-instrumentation-fastapi>=0.41b0->chromadb) (3.8.1)\n",
      "Requirement already satisfied: monotonic>=1.5 in ./.venv/lib/python3.12/site-packages (from posthog>=2.4.0->chromadb) (1.6)\n",
      "Requirement already satisfied: backoff>=1.10.0 in ./.venv/lib/python3.12/site-packages (from posthog>=2.4.0->chromadb) (2.2.1)\n",
      "Requirement already satisfied: annotated-types>=0.6.0 in ./.venv/lib/python3.12/site-packages (from pydantic>=1.9->chromadb) (0.7.0)\n",
      "Requirement already satisfied: pydantic-core==2.27.1 in ./.venv/lib/python3.12/site-packages (from pydantic>=1.9->chromadb) (2.27.1)\n",
      "Requirement already satisfied: markdown-it-py>=2.2.0 in ./.venv/lib/python3.12/site-packages (from rich>=10.11.0->chromadb) (3.0.0)\n",
      "Requirement already satisfied: pygments<3.0.0,>=2.13.0 in ./.venv/lib/python3.12/site-packages (from rich>=10.11.0->chromadb) (2.18.0)\n",
      "Requirement already satisfied: huggingface-hub<1.0,>=0.16.4 in ./.venv/lib/python3.12/site-packages (from tokenizers>=0.13.2->chromadb) (0.26.3)\n",
      "Requirement already satisfied: click>=8.0.0 in ./.venv/lib/python3.12/site-packages (from typer>=0.9.0->chromadb) (8.1.7)\n",
      "Requirement already satisfied: shellingham>=1.3.0 in ./.venv/lib/python3.12/site-packages (from typer>=0.9.0->chromadb) (1.5.4)\n",
      "Requirement already satisfied: httptools>=0.6.3 in ./.venv/lib/python3.12/site-packages (from uvicorn[standard]>=0.18.3->chromadb) (0.6.4)\n",
      "Requirement already satisfied: uvloop!=0.15.0,!=0.15.1,>=0.14.0 in ./.venv/lib/python3.12/site-packages (from uvicorn[standard]>=0.18.3->chromadb) (0.21.0)\n",
      "Requirement already satisfied: watchfiles>=0.13 in ./.venv/lib/python3.12/site-packages (from uvicorn[standard]>=0.18.3->chromadb) (1.0.0)\n",
      "Requirement already satisfied: websockets>=10.4 in ./.venv/lib/python3.12/site-packages (from uvicorn[standard]>=0.18.3->chromadb) (14.1)\n",
      "Requirement already satisfied: cachetools<6.0,>=2.0.0 in ./.venv/lib/python3.12/site-packages (from google-auth>=1.0.1->kubernetes>=28.1.0->chromadb) (5.5.0)\n",
      "Requirement already satisfied: pyasn1-modules>=0.2.1 in ./.venv/lib/python3.12/site-packages (from google-auth>=1.0.1->kubernetes>=28.1.0->chromadb) (0.4.1)\n",
      "Requirement already satisfied: rsa<5,>=3.1.4 in ./.venv/lib/python3.12/site-packages (from google-auth>=1.0.1->kubernetes>=28.1.0->chromadb) (4.9)\n",
      "Requirement already satisfied: filelock in ./.venv/lib/python3.12/site-packages (from huggingface-hub<1.0,>=0.16.4->tokenizers>=0.13.2->chromadb) (3.16.1)\n",
      "Requirement already satisfied: fsspec>=2023.5.0 in ./.venv/lib/python3.12/site-packages (from huggingface-hub<1.0,>=0.16.4->tokenizers>=0.13.2->chromadb) (2024.10.0)\n",
      "Requirement already satisfied: zipp>=3.20 in ./.venv/lib/python3.12/site-packages (from importlib-metadata<=8.5.0,>=6.0->opentelemetry-api>=1.2.0->chromadb) (3.21.0)\n",
      "Requirement already satisfied: mdurl~=0.1 in ./.venv/lib/python3.12/site-packages (from markdown-it-py>=2.2.0->rich>=10.11.0->chromadb) (0.1.2)\n",
      "Requirement already satisfied: charset-normalizer<4,>=2 in ./.venv/lib/python3.12/site-packages (from requests->kubernetes>=28.1.0->chromadb) (3.4.0)\n",
      "Requirement already satisfied: sniffio>=1.1 in ./.venv/lib/python3.12/site-packages (from anyio->httpx>=0.27.0->chromadb) (1.3.1)\n",
      "Requirement already satisfied: humanfriendly>=9.1 in ./.venv/lib/python3.12/site-packages (from coloredlogs->onnxruntime>=1.14.1->chromadb) (10.0)\n",
      "Requirement already satisfied: mpmath<1.4,>=1.1.0 in ./.venv/lib/python3.12/site-packages (from sympy->onnxruntime>=1.14.1->chromadb) (1.3.0)\n",
      "Requirement already satisfied: pyasn1<0.7.0,>=0.4.6 in ./.venv/lib/python3.12/site-packages (from pyasn1-modules>=0.2.1->google-auth>=1.0.1->kubernetes>=28.1.0->chromadb) (0.6.1)\n",
      "\n",
      "\u001b[1m[\u001b[0m\u001b[34;49mnotice\u001b[0m\u001b[1;39;49m]\u001b[0m\u001b[39;49m A new release of pip is available: \u001b[0m\u001b[31;49m24.0\u001b[0m\u001b[39;49m -> \u001b[0m\u001b[32;49m24.3.1\u001b[0m\n",
      "\u001b[1m[\u001b[0m\u001b[34;49mnotice\u001b[0m\u001b[1;39;49m]\u001b[0m\u001b[39;49m To update, run: \u001b[0m\u001b[32;49mpip install --upgrade pip\u001b[0m\n",
      "Note: you may need to restart the kernel to use updated packages.\n"
     ]
    }
   ],
   "source": [
    "pip install chromadb python-dotenv"
   ]
  },
  {
   "cell_type": "markdown",
   "metadata": {},
   "source": [
    "**Create a PersistentClient**"
   ]
  },
  {
   "cell_type": "code",
   "execution_count": 89,
   "metadata": {},
   "outputs": [],
   "source": [
    "import chromadb\n",
    "\n",
    "# create a client that will load our existing chromadb\n",
    "client = chromadb.PersistentClient(path=\"chroma_db/\")\n"
   ]
  },
  {
   "cell_type": "markdown",
   "metadata": {},
   "source": [
    "**Check Our Connection**"
   ]
  },
  {
   "cell_type": "code",
   "execution_count": 90,
   "metadata": {},
   "outputs": [
    {
     "data": {
      "text/plain": [
       "1735881139260715000"
      ]
     },
     "execution_count": 90,
     "metadata": {},
     "output_type": "execute_result"
    }
   ],
   "source": [
    "client.heartbeat()"
   ]
  },
  {
   "cell_type": "markdown",
   "metadata": {},
   "source": [
    "**Getting Our Data Metrics**"
   ]
  },
  {
   "cell_type": "code",
   "execution_count": 91,
   "metadata": {},
   "outputs": [],
   "source": [
    "from dotenv import load_dotenv\n",
    "import os\n",
    "\n",
    "load_dotenv()\n",
    "\n",
    "# loads the .env file with LLM API Keys\n",
    "load_dotenv()\n",
    "\n",
    "# sets API access keys\n",
    "OPEN_AI_API_KEY = os.getenv(\"OPEN_AI_API_KEY\")\n",
    "\n",
    "if not OPEN_AI_API_KEY:\n",
    "    raise ValueError(\"OPEN_AI_API_KEY not found, please add your API key in a .env\")\n",
    "    "
   ]
  },
  {
   "cell_type": "markdown",
   "metadata": {},
   "source": [
    "**Create Embedding Function**\n",
    "\n",
    "[Emedding Functions](https://docs.trychroma.com/integrations/embedding-models/openai) tell Chroma what type of embedding to look for when making queries to the Chroma client"
   ]
  },
  {
   "cell_type": "code",
   "execution_count": 92,
   "metadata": {},
   "outputs": [],
   "source": [
    "# get openai embedding function\n",
    "import chromadb.utils.embedding_functions as embedding_functions\n",
    "\n",
    "# create embedding_function object\n",
    "openai_ef = embedding_functions.OpenAIEmbeddingFunction(\n",
    "                api_key=OPEN_AI_API_KEY,\n",
    "                model_name=\"text-embedding-3-small\"\n",
    "            )\n"
   ]
  },
  {
   "cell_type": "markdown",
   "metadata": {},
   "source": [
    "**Get Collection Details**\n",
    "\n",
    "[Create and Get and Delete](https://docs.trychroma.com/docs/collections/create-get-delete) processing the collection for the standard `CRUD` operations requires a `collection` primitive.\n",
    "\n",
    "\n",
    "```python\n",
    "# create the collection if it doesn't exist\n",
    "collection = client.create_collection(name=\"my_collection\", embedding_function=emb_fn)\n",
    "\n",
    "# get's a collection if it exists\n",
    "collection = client.get_collection(name=\"my_collection\", embedding_function=emb_fn)\n",
    "```\n",
    "\n"
   ]
  },
  {
   "cell_type": "code",
   "execution_count": 93,
   "metadata": {},
   "outputs": [
    {
     "data": {
      "text/plain": [
       "{'ids': ['4c90c3e2-4acd-4b5d-a37b-2dee221875e2',\n",
       "  '0fad0c70-7340-407e-9f00-0e53170a8e48',\n",
       "  'd7b2ee45-313c-4000-b19c-5119cca18025',\n",
       "  'a3e634d8-ec70-4c7c-b141-3779a02b22c2',\n",
       "  'c3f24a92-0de3-4c10-9245-709df95d75eb',\n",
       "  'f7ac6af4-3bfc-4770-95c3-03b364ce2bd5',\n",
       "  '89e5b1e7-2b15-452b-b503-80c973d1df40',\n",
       "  '0ee7053c-ba36-493e-a586-740693b6d120',\n",
       "  'be597368-5c4e-4dc4-96ee-1ff705893542',\n",
       "  '7ac7c9c2-c120-40c5-bb1b-eb44fa18b5df'],\n",
       " 'embeddings': array([[-1.60320718e-02, -5.72213493e-02,  3.75896972e-03, ...,\n",
       "         -2.57682018e-02,  4.63562012e-02, -1.74533091e-02],\n",
       "        [-1.52583746e-02,  2.94168349e-02,  7.39516318e-03, ...,\n",
       "          1.51413623e-02,  1.63465869e-02, -5.04556075e-02],\n",
       "        [ 3.74108693e-03,  3.49985845e-02, -3.90326865e-02, ...,\n",
       "         -4.49202992e-02,  2.66577993e-02,  5.14825340e-03],\n",
       "        ...,\n",
       "        [ 8.28020554e-03, -2.33449154e-02, -2.96986569e-02, ...,\n",
       "          6.77739881e-05,  1.68356206e-02,  9.78787336e-03],\n",
       "        [ 5.62553070e-02, -4.07588333e-02, -3.99469994e-02, ...,\n",
       "          1.63680017e-02,  3.50282416e-02,  2.36028749e-02],\n",
       "        [ 3.01975906e-02,  3.20588686e-02,  3.07431370e-02, ...,\n",
       "         -1.76018905e-02,  9.39462800e-03, -2.67638583e-02]]),\n",
       " 'documents': [\"Vote for KEXP's Best of 2024\",\n",
       "  'Menu',\n",
       "  'Listen\\nWatch\\nRead',\n",
       "  'Events\\nVisit KEXP\\nDonor Lounge\\nPlaylist\\nDonate',\n",
       "  'Menu',\n",
       "  '\\n0 seconds of 0 secondsVolume 100%Press shift question mark to access a list of keyboard shortcutsKeyboard ShortcutsEnabledDisabledShortcuts Open/Close/ or ?Play/PauseSPACEIncrease Volume↑Decrease Volume↓Seek Forward→Seek Backward←Captions On/OffcFullscreen/Exit FullscreenfMute/UnmutemDecrease Caption Size-Increase Caption Size+ or =Seek %0-9',\n",
       "  'Live00:0000:0000:00\\xa0\\n\\nListen Live',\n",
       "  'Now Playing\\nEl Sonido with Albina Cabrera',\n",
       "  'Barbacius – Prefiero Dejarlo Asi',\n",
       "  'Close\\n      \\n\\n\\n\\n\\n\\n\\n\\n\\n\\n \\n\\n\\n\\nSearch'],\n",
       " 'uris': None,\n",
       " 'data': None,\n",
       " 'metadatas': [{'source': \"./Vote for KEXP's Best of 2024.html\",\n",
       "   'title': \"\\n        \\n        \\n        Vote for KEXP's Best of 2024\\n        \\n    \"},\n",
       "  {'source': \"./Vote for KEXP's Best of 2024.html\",\n",
       "   'title': \"\\n        \\n        \\n        Vote for KEXP's Best of 2024\\n        \\n    \"},\n",
       "  {'source': \"./Vote for KEXP's Best of 2024.html\",\n",
       "   'title': \"\\n        \\n        \\n        Vote for KEXP's Best of 2024\\n        \\n    \"},\n",
       "  {'source': \"./Vote for KEXP's Best of 2024.html\",\n",
       "   'title': \"\\n        \\n        \\n        Vote for KEXP's Best of 2024\\n        \\n    \"},\n",
       "  {'source': \"./Vote for KEXP's Best of 2024.html\",\n",
       "   'title': \"\\n        \\n        \\n        Vote for KEXP's Best of 2024\\n        \\n    \"},\n",
       "  {'source': \"./Vote for KEXP's Best of 2024.html\",\n",
       "   'title': \"\\n        \\n        \\n        Vote for KEXP's Best of 2024\\n        \\n    \"},\n",
       "  {'source': \"./Vote for KEXP's Best of 2024.html\",\n",
       "   'title': \"\\n        \\n        \\n        Vote for KEXP's Best of 2024\\n        \\n    \"},\n",
       "  {'source': \"./Vote for KEXP's Best of 2024.html\",\n",
       "   'title': \"\\n        \\n        \\n        Vote for KEXP's Best of 2024\\n        \\n    \"},\n",
       "  {'source': \"./Vote for KEXP's Best of 2024.html\",\n",
       "   'title': \"\\n        \\n        \\n        Vote for KEXP's Best of 2024\\n        \\n    \"},\n",
       "  {'source': \"./Vote for KEXP's Best of 2024.html\",\n",
       "   'title': \"\\n        \\n        \\n        Vote for KEXP's Best of 2024\\n        \\n    \"}],\n",
       " 'included': [<IncludeEnum.embeddings: 'embeddings'>,\n",
       "  <IncludeEnum.documents: 'documents'>,\n",
       "  <IncludeEnum.metadatas: 'metadatas'>]}"
      ]
     },
     "execution_count": 93,
     "metadata": {},
     "output_type": "execute_result"
    }
   ],
   "source": [
    "# search for the KEXP collection\n",
    "collection = client.get_collection(name=\"KEXP-24-Embeddings\", embedding_function=openai_ef)\n",
    "\n",
    "\n",
    "# look at the last item of the data base \n",
    "collection.peek() \n",
    "\n"
   ]
  },
  {
   "cell_type": "code",
   "execution_count": 94,
   "metadata": {},
   "outputs": [
    {
     "name": "stdout",
     "output_type": "stream",
     "text": [
      "objects within the collection: 63482\n"
     ]
    }
   ],
   "source": [
    "# looks at a count\n",
    "print(\"objects within the collection: \" + str(collection.count() ))"
   ]
  },
  {
   "cell_type": "markdown",
   "metadata": {},
   "source": [
    "**Querying the Database**\n",
    "\n",
    "[Query and Get](https://docs.trychroma.com/docs/querying-collections/query-and-get) the objects can be queried. You can also query by a set of `query texts`. Chroma will first embed each query text with the collection's embedding function, and then perform the query with the generated embedding.\n",
    "\n",
    "\n",
    "\n",
    "```python\n",
    "collection.query(\n",
    "    query_texts=[\"Nice Biscuit\"],\n",
    "    n_results=5,\n",
    "    include=['documents', 'distances', 'metadatas']\n",
    ")\n",
    "```"
   ]
  },
  {
   "cell_type": "code",
   "execution_count": 96,
   "metadata": {},
   "outputs": [
    {
     "data": {
      "text/plain": [
       "{'ids': [['804df970-5923-437a-a554-bff07f8b84d2',\n",
       "   '584c45d7-6dfd-4f51-89a4-521fceabe017',\n",
       "   '1f7262a8-1242-4489-9b5b-5df42e74f2ee',\n",
       "   'a2f71648-bab7-4273-a8ae-13b8c32c364d',\n",
       "   '5526decc-470b-41a1-a701-2e8a60f1cad8',\n",
       "   'ccbd8b6a-ffc4-4a6d-845b-7376d11e5ead',\n",
       "   '98c2cbe1-40c6-4ac2-80c5-214e43b7cdfe',\n",
       "   '9c6da98f-c355-4e2f-bbaf-2d1a7b8e82a3',\n",
       "   'a74b19c5-ff65-466a-a26b-a05b7d6ab5ce',\n",
       "   'ffc9fbaf-9e5b-4df4-9650-56fe2f397369',\n",
       "   '3758940e-0725-47c9-8db6-bdb6f63b2ef4',\n",
       "   '686d7ef2-97d7-4074-937a-0a38722fd433',\n",
       "   'f6e61926-8c71-4a7a-bd74-2953d3350395',\n",
       "   'bf22799d-1507-4134-ac86-70425f504c91',\n",
       "   'c9c36040-94b6-45db-938a-7540337b82ea']],\n",
       " 'embeddings': None,\n",
       " 'documents': [['Khruangbin - A LA SALA',\n",
       "   'Markus Stockhausen; Emilie-Claire Barlow; Michael Kiwanuka; Louis Cole; Jonathan Jeremiah; Basement',\n",
       "   'Tyla - TYLA\\n\\n Kali Uchis - Orquídeas',\n",
       "   'Amen Dunes\\nAmen Dunes at Sacred Bones Records',\n",
       "   'including: The Belligerents, Moses Gunn Collective and The Jungle Giants, and use pseudonyms in',\n",
       "   'Jordan Rakei - The Loop',\n",
       "   'Kim Gordon - The Collective',\n",
       "   'Thee Oh Sees and WAND',\n",
       "   'Keys, Paul Simon, Amen Dunes, Mac DeMarco, Tame Impala, and others',\n",
       "   'Keys, Paul Simon, Amen Dunes, Mac DeMarco, Tame Impala, and others',\n",
       "   'such artists as Dirty Three, Pegboy, Caspar Brötzmann, and Cows',\n",
       "   '. Johnson (Fruit Bats, The Shins), and Josh Kaufman (The National, Hiss Golden Messenger, Josh',\n",
       "   'Sleater-Kinney - Frayed Rop Sessions',\n",
       "   'Dayes met keyboardist Kamaal Williams in 2007',\n",
       "   'Collier, Markus Stockhausen, Louis Cole, Triptykon, Cory Wong, Cory Henry, Basement Jaxx and Robbie']],\n",
       " 'uris': None,\n",
       " 'data': None,\n",
       " 'metadatas': [[{'source': \"./Vote for KEXP's Best of 2024.html\",\n",
       "    'title': \"\\n        \\n        \\n        Vote for KEXP's Best of 2024\\n        \\n    \"},\n",
       "   {'source': 'https://en.wikipedia.org/wiki/Jules_Buckley',\n",
       "    'summary': 'Julian \"Jules\" Buckley (born 8 January 1980) is an English conductor, composer, and arranger.',\n",
       "    'title': 'Jules Buckley'},\n",
       "   {'source': \"./Vote for KEXP's Best of 2024.html\",\n",
       "    'title': \"\\n        \\n        \\n        Vote for KEXP's Best of 2024\\n        \\n    \"},\n",
       "   {'source': 'https://en.wikipedia.org/wiki/Amen_Dunes',\n",
       "    'summary': 'Amen Dunes was the musical project formed by American singer-songwriter and musician Damon McMahon in 2006.',\n",
       "    'title': 'Amen Dunes'},\n",
       "   {'source': 'https://en.wikipedia.org/wiki/Confidence_Man_(band)',\n",
       "    'summary': 'Confidence Man are an Australian indie electro pop band formed in 2016 in Brisbane, Queensland. They released their debut album Confident Music for Confident People in April 2018. The front-duo and their band members have been a part of many festivals across the United Kingdom, Europe and Australia, most notably Glastonbury Festival.\\n\\n',\n",
       "    'title': 'Confidence Man (band)'},\n",
       "   {'source': \"./Vote for KEXP's Best of 2024.html\",\n",
       "    'title': \"\\n        \\n        \\n        Vote for KEXP's Best of 2024\\n        \\n    \"},\n",
       "   {'source': \"./Vote for KEXP's Best of 2024.html\",\n",
       "    'title': \"\\n        \\n        \\n        Vote for KEXP's Best of 2024\\n        \\n    \"},\n",
       "   {'source': 'https://en.wikipedia.org/wiki/Summer_Cannibals_(band)',\n",
       "    'summary': 'Summer Cannibals was a rock band from Portland, Oregon featuring lead singer and guitarist Jessica Boudreaux, drummer Devon Shirley (formerly of the bands The Photo Atlas and Red Orange Yellow), guitarist Cassi Blum and bassist Ethan Butman. Their debut album, No Makeup, was released on New Moss Records on August 6, 2013. Their follow up \\nalbum, Show Us Your Mind, was produced, recorded, and mixed by Larry Crane and released on New Moss Records on March 3, 2015. The album received favorable reviews from critics such as Entertainment Weekly, which stated that the album featured “songs that refine the fuzzy garage-pop of its debut into something sharper, tighter, and much more difficult to shake off.”\\nSummer Cannibals toured nationwide supporting the Show Us Your Mind album, including sets at SXSW and CMJ in 2015. Following their return in the fall, the band recorded their third full-length album with Chris Woodhouse, the engineer on records from artists including Ty Segall, Thee Oh Sees and WAND.\\nIn February 2016, the band announced that its third full-length album would be released on independent label Kill Rock Stars. Titled Full Of It, the first single of the album “Go Home” was featured on Spin. Two months later the band premiered an official music video for the second single, “Full Of It”, on Stereogum. In April 2016, NPR premiered the single \"Simple Life\" from the forthcoming Full Of It album. Pitchfork gave the Full Of It album a 7.2, stating that it balanced “flame-belching Mad Max riffage with lyrics frankly exploring questions of codependence and need.” The band had their television debut on May 26, 2016 when they performed two songs on Last Call With Carson Daly. In May 2016, Summer Cannibals performed at the Sasquatch! Music Festival at The Gorge Amphitheatre. The music video for the single \"Say My Name\" was directed by Rob \"Whitey\" McConnaughy and was premiered on The Wall Street Journal.\\nOn March 28, 2023 Jessica Boudreaux announced the group had disbanded.\\n\\n',\n",
       "    'title': 'Summer Cannibals (band)'},\n",
       "   {'source': 'https://en.wikipedia.org/wiki/Delicate_Steve',\n",
       "    'summary': \"Delicate Steve is the stage name of musician Steve Marion, an American multi-instrumentalist who leads the band of the same name. Delicate Steve's sound has been described as hand-crafted with elements of progressive rock, folksy twang, African rhythms, surf rock and 1970s pop. Marion has collaborated with a wide range of artists in a variety of styles and genres, performing live and recording in-studio with artists such as The Black Keys, Paul Simon, Amen Dunes, Mac DeMarco, Tame Impala, and others.\",\n",
       "    'title': 'Delicate Steve'},\n",
       "   {'source': 'https://en.wikipedia.org/wiki/Delicate_Steve',\n",
       "    'summary': \"Delicate Steve is the stage name of musician Steve Marion, an American multi-instrumentalist who leads the band of the same name. Delicate Steve's sound has been described as hand-crafted with elements of progressive rock, folksy twang, African rhythms, surf rock and 1970s pop. Marion has collaborated with a wide range of artists in a variety of styles and genres, performing live and recording in-studio with artists such as The Black Keys, Paul Simon, Amen Dunes, Mac DeMarco, Tame Impala, and others.\",\n",
       "    'title': 'Delicate Steve'},\n",
       "   {'source': 'https://en.wikipedia.org/wiki/Arcwelder',\n",
       "    'summary': 'Arcwelder is an American punk rock band from Minneapolis, Minnesota, formed in 1987. The band, a perennial local favorite, consists of brothers Rob and Bill Graber and Scott Macdonald, all of whom share in songwriting and singing.\\nThe band released six albums between 1990 and 1999, including Pull and Jacket Made in Canada. Pitchfork writer Ryan Schreiber called them one of the best Minnesota bands of the 1990s.',\n",
       "    'title': 'Arcwelder'},\n",
       "   {'source': 'https://en.wikipedia.org/wiki/Bonny_Light_Horseman_(band)',\n",
       "    'summary': 'Bonny Light Horseman is an American folk band consisting of Anaïs Mitchell, Eric D. Johnson (Fruit Bats, The Shins), and Josh Kaufman (The National, Hiss Golden Messenger, Josh Ritter). They released their debut eponymous album in January 2020. Their sophomore album, Rolling Golden Holy, came out in October 2022. Their latest release, Keep Me On Your Mind/See You Free, was released in June 2024. \\n\\n',\n",
       "    'title': 'Bonny Light Horseman (band)'},\n",
       "   {'source': \"./Vote for KEXP's Best of 2024.html\",\n",
       "    'title': \"\\n        \\n        \\n        Vote for KEXP's Best of 2024\\n        \\n    \"},\n",
       "   {'source': 'https://en.wikipedia.org/wiki/Yussef_Dayes',\n",
       "    'summary': 'Yussef Dayes (born 12 December 1992), is an English jazz drummer, composer, and record producer. \\nHe is known for his work with keyboardist Kamaal Williams, releasing the 2016 album Black Focus as the duo Yussef Kamaal and with English singer and guitarist Tom Misch, releasing the 2020 collaborative album What Kinda Music. Dayes released his debut solo album Black Classical Music on 8 September 2023.\\n\\n',\n",
       "    'title': 'Yussef Dayes'},\n",
       "   {'source': 'https://en.wikipedia.org/wiki/Metropole_Orkest',\n",
       "    'summary': 'The Metropole Orkest (transl.\\u2009Metropole Orchestra) is a jazz and pop orchestra based in the Netherlands, and is the largest full-time ensemble of its kind in the world. A hybrid orchestra, it combines jazz, big band and classical symphony orchestra styles. Comprising between 52 and 97 musicians, it is versatile across many musical forms, and is equipped with a \"double rhythm section\" – one for pop and rock, and one for jazz based music.',\n",
       "    'title': 'Metropole Orkest'}]],\n",
       " 'distances': [[0.8574115633964539,\n",
       "   1.1856187582015991,\n",
       "   1.2046117782592773,\n",
       "   1.2131996154785156,\n",
       "   1.2180629968643188,\n",
       "   1.2266710996627808,\n",
       "   1.240976095199585,\n",
       "   1.2439578771591187,\n",
       "   1.2466168403625488,\n",
       "   1.2466177940368652,\n",
       "   1.2527885437011719,\n",
       "   1.254630208015442,\n",
       "   1.2546485662460327,\n",
       "   1.2564955949783325,\n",
       "   1.2654986381530762]],\n",
       " 'included': [<IncludeEnum.distances: 'distances'>,\n",
       "  <IncludeEnum.documents: 'documents'>,\n",
       "  <IncludeEnum.metadatas: 'metadatas'>]}"
      ]
     },
     "execution_count": 96,
     "metadata": {},
     "output_type": "execute_result"
    }
   ],
   "source": [
    "collection.query(\n",
    "    query_texts=[\"Khurangbin\"],\n",
    "    n_results=15,\n",
    "    include=['documents', 'distances', 'metadatas']\n",
    ")"
   ]
  }
 ],
 "metadata": {
  "kernelspec": {
   "display_name": ".venv",
   "language": "python",
   "name": "python3"
  },
  "language_info": {
   "codemirror_mode": {
    "name": "ipython",
    "version": 3
   },
   "file_extension": ".py",
   "mimetype": "text/x-python",
   "name": "python",
   "nbconvert_exporter": "python",
   "pygments_lexer": "ipython3",
   "version": "3.12.3"
  }
 },
 "nbformat": 4,
 "nbformat_minor": 2
}
